{
 "cells": [
  {
   "metadata": {},
   "cell_type": "markdown",
   "source": "***String Operation***"
  },
  {
   "metadata": {
    "ExecuteTime": {
     "end_time": "2025-06-04T10:09:36.253108Z",
     "start_time": "2025-06-04T10:09:36.248241Z"
    }
   },
   "cell_type": "code",
   "source": [
    "#Reverse a String\n",
    "s = \"gopinath\""
   ],
   "outputs": [],
   "execution_count": 2
  },
  {
   "metadata": {
    "ExecuteTime": {
     "end_time": "2025-06-04T10:09:41.181924Z",
     "start_time": "2025-06-04T10:09:41.171253Z"
    }
   },
   "cell_type": "code",
   "source": "s[::-1]",
   "outputs": [
    {
     "data": {
      "text/plain": [
       "'htanipog'"
      ]
     },
     "execution_count": 3,
     "metadata": {},
     "output_type": "execute_result"
    }
   ],
   "execution_count": 3
  },
  {
   "metadata": {
    "ExecuteTime": {
     "end_time": "2025-06-04T10:11:20.689436Z",
     "start_time": "2025-06-04T10:11:20.683197Z"
    }
   },
   "cell_type": "code",
   "source": [
    "# Check if a String is a Palindrome\n",
    "def is_palindrome(s):\n",
    "    s = s.lower()\n",
    "    return s == s[::-1]\n",
    "\n",
    "text = 'Malayalam'\n",
    "is_palindrome(text)"
   ],
   "outputs": [
    {
     "data": {
      "text/plain": [
       "True"
      ]
     },
     "execution_count": 13,
     "metadata": {},
     "output_type": "execute_result"
    }
   ],
   "execution_count": 13
  },
  {
   "metadata": {},
   "cell_type": "code",
   "outputs": [],
   "execution_count": null,
   "source": ""
  },
  {
   "metadata": {
    "ExecuteTime": {
     "end_time": "2025-06-04T10:14:06.955036Z",
     "start_time": "2025-06-04T10:14:06.950628Z"
    }
   },
   "cell_type": "code",
   "source": [
    "# Count the Occurrences of a Character\n",
    "def get_count(s,char):\n",
    "    count = s.lower().count(char.lower())\n",
    "    print(f\"The character '{char}' appears {count} times.\")\n",
    "text = 'Malayalam'\n",
    "get_count(text,'m')"
   ],
   "outputs": [
    {
     "name": "stdout",
     "output_type": "stream",
     "text": [
      "The character 'm' appears 2 times.\n"
     ]
    }
   ],
   "execution_count": 21
  },
  {
   "metadata": {
    "ExecuteTime": {
     "end_time": "2025-06-04T10:15:09.481841Z",
     "start_time": "2025-06-04T10:15:09.475375Z"
    }
   },
   "cell_type": "code",
   "source": [
    "# Remove All Whitespace\n",
    "def remove_whitespaces(s):\n",
    "    return s.strip()\n",
    "\n",
    "text = \"hellloo worldd !  \"\n",
    "remove_whitespaces(text)"
   ],
   "outputs": [
    {
     "data": {
      "text/plain": [
       "'hellloo worldd !'"
      ]
     },
     "execution_count": 23,
     "metadata": {},
     "output_type": "execute_result"
    }
   ],
   "execution_count": 23
  },
  {
   "metadata": {
    "ExecuteTime": {
     "end_time": "2025-06-04T10:21:44.002295Z",
     "start_time": "2025-06-04T10:21:43.994114Z"
    }
   },
   "cell_type": "code",
   "source": [
    "# Find the First Non-Repeating Character\n",
    "from collections import OrderedDict\n",
    "def get_non_repeating_chars(s):\n",
    "    char_count = OrderedDict()\n",
    "    for char in s:\n",
    "        char_count[char] = char_count.get(char, 0) + 1\n",
    "        \n",
    "    for char, count in char_count.items():\n",
    "        if count == 1:\n",
    "            return char\n",
    "    return None\n",
    "text = 'swiss'\n",
    "get_non_repeating_chars(text)"
   ],
   "outputs": [
    {
     "data": {
      "text/plain": [
       "'w'"
      ]
     },
     "execution_count": 32,
     "metadata": {},
     "output_type": "execute_result"
    }
   ],
   "execution_count": 32
  }
 ],
 "metadata": {
  "kernelspec": {
   "display_name": "pyspark",
   "language": "python",
   "name": "python3"
  },
  "language_info": {
   "codemirror_mode": {
    "name": "ipython",
    "version": 3
   },
   "file_extension": ".py",
   "mimetype": "text/x-python",
   "name": "python",
   "nbconvert_exporter": "python",
   "pygments_lexer": "ipython3",
   "version": "3.11.0"
  }
 },
 "nbformat": 4,
 "nbformat_minor": 2
}

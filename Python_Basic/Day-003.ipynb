{
 "cells": [
  {
   "metadata": {},
   "cell_type": "markdown",
   "source": "### *Loop in Python*",
   "id": "2f2924b22f76c5a2"
  },
  {
   "metadata": {
    "ExecuteTime": {
     "end_time": "2025-07-03T16:35:19.213373Z",
     "start_time": "2025-07-03T16:35:19.111738Z"
    }
   },
   "cell_type": "code",
   "source": "s = \"gopinath\"",
   "id": "d2500b8d134da29d",
   "outputs": [],
   "execution_count": 2
  },
  {
   "metadata": {
    "ExecuteTime": {
     "end_time": "2025-07-03T16:35:33.001817Z",
     "start_time": "2025-07-03T16:35:32.919327Z"
    }
   },
   "cell_type": "code",
   "source": [
    "for i in s:\n",
    "    print(i)"
   ],
   "id": "9efae719cd7feaa0",
   "outputs": [
    {
     "name": "stdout",
     "output_type": "stream",
     "text": [
      "g\n",
      "o\n",
      "p\n",
      "i\n",
      "n\n",
      "a\n",
      "t\n",
      "h\n"
     ]
    }
   ],
   "execution_count": 3
  },
  {
   "metadata": {
    "ExecuteTime": {
     "end_time": "2025-07-03T16:37:50.747516Z",
     "start_time": "2025-07-03T16:37:50.741987Z"
    }
   },
   "cell_type": "code",
   "source": [
    "n = len(s)\n",
    "m = 0\n",
    "while n > m:\n",
    "    print(s[m])\n",
    "    m +=1"
   ],
   "id": "ffeb9c609769b8b7",
   "outputs": [
    {
     "name": "stdout",
     "output_type": "stream",
     "text": [
      "g\n",
      "o\n",
      "p\n",
      "i\n",
      "n\n",
      "a\n",
      "t\n",
      "h\n"
     ]
    }
   ],
   "execution_count": 5
  },
  {
   "metadata": {
    "ExecuteTime": {
     "end_time": "2025-07-03T16:38:14.957303Z",
     "start_time": "2025-07-03T16:38:14.947302Z"
    }
   },
   "cell_type": "code",
   "source": "l = [1,3,6,7,8,9.0]",
   "id": "31826b7f4a88e4f",
   "outputs": [],
   "execution_count": 6
  },
  {
   "metadata": {
    "ExecuteTime": {
     "end_time": "2025-07-03T16:38:21.907239Z",
     "start_time": "2025-07-03T16:38:21.898634Z"
    }
   },
   "cell_type": "code",
   "source": [
    "for i in l:\n",
    "    print(i)"
   ],
   "id": "ec2c41d40cc1d3a9",
   "outputs": [
    {
     "name": "stdout",
     "output_type": "stream",
     "text": [
      "1\n",
      "3\n",
      "6\n",
      "7\n",
      "8\n",
      "9.0\n"
     ]
    }
   ],
   "execution_count": 7
  },
  {
   "metadata": {
    "ExecuteTime": {
     "end_time": "2025-07-03T16:39:38.613783Z",
     "start_time": "2025-07-03T16:39:38.608741Z"
    }
   },
   "cell_type": "code",
   "source": "l2 = list(range(0,22,3))",
   "id": "a3a31417f30e2b1a",
   "outputs": [],
   "execution_count": 12
  },
  {
   "metadata": {
    "ExecuteTime": {
     "end_time": "2025-07-03T16:39:40.332534Z",
     "start_time": "2025-07-03T16:39:40.326234Z"
    }
   },
   "cell_type": "code",
   "source": "l2",
   "id": "86b4a712566d5866",
   "outputs": [
    {
     "data": {
      "text/plain": [
       "[0, 3, 6, 9, 12, 15, 18, 21]"
      ]
     },
     "execution_count": 13,
     "metadata": {},
     "output_type": "execute_result"
    }
   ],
   "execution_count": 13
  },
  {
   "metadata": {
    "ExecuteTime": {
     "end_time": "2025-07-03T16:48:34.736915Z",
     "start_time": "2025-07-03T16:48:34.730332Z"
    }
   },
   "cell_type": "code",
   "source": [
    "#Printing triangle\n",
    "\n",
    "for i in range(0,6):\n",
    "    print(\"* \"*i)\n"
   ],
   "id": "620faf069367e194",
   "outputs": [
    {
     "name": "stdout",
     "output_type": "stream",
     "text": [
      "\n",
      "* \n",
      "* * \n",
      "* * * \n",
      "* * * * \n",
      "* * * * * \n"
     ]
    }
   ],
   "execution_count": 26
  },
  {
   "metadata": {
    "ExecuteTime": {
     "end_time": "2025-07-03T16:53:23.225203Z",
     "start_time": "2025-07-03T16:53:23.198203Z"
    }
   },
   "cell_type": "code",
   "source": [
    "#Printing triangle\n",
    "\n",
    "for i in range(6):\n",
    "    for j in range(1,i+1):\n",
    "        print(j, end=\" \")\n",
    "    print()\n"
   ],
   "id": "b620af58ffc9004a",
   "outputs": [
    {
     "name": "stdout",
     "output_type": "stream",
     "text": [
      "\n",
      "1 \n",
      "1 2 \n",
      "1 2 3 \n",
      "1 2 3 4 \n",
      "1 2 3 4 5 \n"
     ]
    }
   ],
   "execution_count": 37
  },
  {
   "metadata": {
    "ExecuteTime": {
     "end_time": "2025-07-03T16:54:20.954653Z",
     "start_time": "2025-07-03T16:54:20.945653Z"
    }
   },
   "cell_type": "code",
   "source": [
    "for i in range(6,0,-1):\n",
    "    print(\"* \"*i)"
   ],
   "id": "399f87a3a8821bdd",
   "outputs": [
    {
     "name": "stdout",
     "output_type": "stream",
     "text": [
      "* * * * * * \n",
      "* * * * * \n",
      "* * * * \n",
      "* * * \n",
      "* * \n",
      "* \n"
     ]
    }
   ],
   "execution_count": 38
  },
  {
   "metadata": {
    "ExecuteTime": {
     "end_time": "2025-07-03T17:05:06.676375Z",
     "start_time": "2025-07-03T17:05:06.668374Z"
    }
   },
   "cell_type": "code",
   "source": [
    "n = 5\n",
    "for i in range(1, n+1):\n",
    "    print(\" \"* (n - i) + \"*\" * i)"
   ],
   "id": "9b522eae07ef8778",
   "outputs": [
    {
     "name": "stdout",
     "output_type": "stream",
     "text": [
      "    *\n",
      "   **\n",
      "  ***\n",
      " ****\n",
      "*****\n"
     ]
    }
   ],
   "execution_count": 51
  },
  {
   "metadata": {
    "ExecuteTime": {
     "end_time": "2025-07-03T17:05:27.732088Z",
     "start_time": "2025-07-03T17:05:27.725861Z"
    }
   },
   "cell_type": "code",
   "source": [
    "n = 5\n",
    "for i in range(1, n+1):\n",
    "    print(\" \"* (n - i) + \"* \" * i)"
   ],
   "id": "35bf789aa3851b41",
   "outputs": [
    {
     "name": "stdout",
     "output_type": "stream",
     "text": [
      "    * \n",
      "   * * \n",
      "  * * * \n",
      " * * * * \n",
      "* * * * * \n"
     ]
    }
   ],
   "execution_count": 52
  },
  {
   "metadata": {
    "ExecuteTime": {
     "end_time": "2025-07-03T17:07:39.852455Z",
     "start_time": "2025-07-03T17:07:39.846669Z"
    }
   },
   "cell_type": "code",
   "source": [
    "n = 5\n",
    "for i in range(1, n+1):\n",
    "    print(\" \"* (n - i) + \"*\" * (2*i-1))"
   ],
   "id": "dec60bb260ff697e",
   "outputs": [
    {
     "name": "stdout",
     "output_type": "stream",
     "text": [
      "    *\n",
      "   ***\n",
      "  *****\n",
      " *******\n",
      "*********\n"
     ]
    }
   ],
   "execution_count": 54
  },
  {
   "metadata": {
    "ExecuteTime": {
     "end_time": "2025-07-03T17:08:18.892035Z",
     "start_time": "2025-07-03T17:08:18.882894Z"
    }
   },
   "cell_type": "code",
   "source": [
    "n = 5\n",
    "for i in range(1, n+1):\n",
    "    print(\" \"* (n - i) + \"*\" * (2*i-1))\n",
    "for i in range(n-1, 0,-1):\n",
    "    print(\" \"* (n - i) + \"*\" * (2*i-1))"
   ],
   "id": "a07b2e27f94e791d",
   "outputs": [
    {
     "name": "stdout",
     "output_type": "stream",
     "text": [
      "    *\n",
      "   ***\n",
      "  *****\n",
      " *******\n",
      "*********\n",
      " *******\n",
      "  *****\n",
      "   ***\n",
      "    *\n"
     ]
    }
   ],
   "execution_count": 55
  },
  {
   "metadata": {},
   "cell_type": "markdown",
   "source": "***While loop***",
   "id": "6b24a319f13a1cb4"
  },
  {
   "metadata": {
    "ExecuteTime": {
     "end_time": "2025-07-03T17:10:41.363186Z",
     "start_time": "2025-07-03T17:10:41.355660Z"
    }
   },
   "cell_type": "code",
   "source": [
    "n = 1\n",
    "m = 6\n",
    "while n < m:\n",
    "    print(n)\n",
    "    n += 1"
   ],
   "id": "1b4818ff5cf875e3",
   "outputs": [
    {
     "name": "stdout",
     "output_type": "stream",
     "text": [
      "1\n",
      "2\n",
      "3\n",
      "4\n",
      "5\n"
     ]
    }
   ],
   "execution_count": 57
  },
  {
   "metadata": {
    "ExecuteTime": {
     "end_time": "2025-07-03T17:58:48.406102Z",
     "start_time": "2025-07-03T17:58:48.381322Z"
    }
   },
   "cell_type": "code",
   "source": [
    "n = 10\n",
    "m = 0\n",
    "while n > m:\n",
    "    print(n)\n",
    "    n -=1"
   ],
   "id": "766904715167fcc0",
   "outputs": [
    {
     "name": "stdout",
     "output_type": "stream",
     "text": [
      "10\n",
      "9\n",
      "8\n",
      "7\n",
      "6\n",
      "5\n",
      "4\n",
      "3\n",
      "2\n",
      "1\n"
     ]
    }
   ],
   "execution_count": 58
  },
  {
   "metadata": {},
   "cell_type": "markdown",
   "source": "***enumerate, zip, reversed, sorted, dictionary in loop***",
   "id": "f9e70080cd33275"
  },
  {
   "metadata": {
    "ExecuteTime": {
     "end_time": "2025-07-03T18:01:39.818946Z",
     "start_time": "2025-07-03T18:01:39.808802Z"
    }
   },
   "cell_type": "code",
   "source": "g = \"Gopinath\"\n",
   "id": "6a5a6fdca9944e13",
   "outputs": [],
   "execution_count": 59
  },
  {
   "metadata": {
    "ExecuteTime": {
     "end_time": "2025-07-03T18:03:32.500567Z",
     "start_time": "2025-07-03T18:03:32.491992Z"
    }
   },
   "cell_type": "code",
   "source": [
    "for i,j in enumerate(s):\n",
    "    print(i,j)"
   ],
   "id": "93136758bd0048f6",
   "outputs": [
    {
     "name": "stdout",
     "output_type": "stream",
     "text": [
      "0 g\n",
      "1 o\n",
      "2 p\n",
      "3 i\n",
      "4 n\n",
      "5 a\n",
      "6 t\n",
      "7 h\n"
     ]
    }
   ],
   "execution_count": 61
  },
  {
   "metadata": {
    "ExecuteTime": {
     "end_time": "2025-07-03T18:04:36.920918Z",
     "start_time": "2025-07-03T18:04:36.914266Z"
    }
   },
   "cell_type": "code",
   "source": [
    "for i,j in enumerate(s):\n",
    "    # print(i,j)\n",
    "    if i%2 == 0:\n",
    "        print(j.upper())\n",
    "    else:\n",
    "        print(j)\n",
    "        \"\""
   ],
   "id": "22e147686f6e8692",
   "outputs": [
    {
     "name": "stdout",
     "output_type": "stream",
     "text": [
      "G\n",
      "o\n",
      "P\n",
      "i\n",
      "N\n",
      "a\n",
      "T\n",
      "h\n"
     ]
    }
   ],
   "execution_count": 63
  },
  {
   "metadata": {
    "ExecuteTime": {
     "end_time": "2025-07-03T18:08:00.994759Z",
     "start_time": "2025-07-03T18:08:00.987070Z"
    }
   },
   "cell_type": "code",
   "source": [
    "key = [\"first_name\", \"last_name\", \"city\", \"state\", \"zip\", \"phone\"]\n",
    "value = [\"Gopinath\",\"Pandit\",\"Bangalore\",\"KA\",\"560049\",\"788\"]"
   ],
   "id": "847173c1d8e4cae4",
   "outputs": [],
   "execution_count": 73
  },
  {
   "metadata": {
    "ExecuteTime": {
     "end_time": "2025-07-03T18:08:38.129102Z",
     "start_time": "2025-07-03T18:08:38.121256Z"
    }
   },
   "cell_type": "code",
   "source": "",
   "id": "eec10efd694db6a6",
   "outputs": [],
   "execution_count": null
  },
  {
   "metadata": {
    "ExecuteTime": {
     "end_time": "2025-07-03T18:08:31.814854Z",
     "start_time": "2025-07-03T18:08:31.802873Z"
    }
   },
   "cell_type": "code",
   "source": "list(zip(key, value))",
   "id": "625ca24b4b57b47f",
   "outputs": [
    {
     "data": {
      "text/plain": [
       "[('first_name', 'Gopinath'),\n",
       " ('last_name', 'Pandit'),\n",
       " ('city', 'Bangalore'),\n",
       " ('state', 'KA'),\n",
       " ('zip', '560049'),\n",
       " ('phone', '788')]"
      ]
     },
     "execution_count": 74,
     "metadata": {},
     "output_type": "execute_result"
    }
   ],
   "execution_count": 74
  },
  {
   "metadata": {
    "ExecuteTime": {
     "end_time": "2025-07-03T18:09:19.150769Z",
     "start_time": "2025-07-03T18:09:19.143037Z"
    }
   },
   "cell_type": "code",
   "source": "list(reversed(key))",
   "id": "147ddc3835694786",
   "outputs": [
    {
     "data": {
      "text/plain": [
       "['phone', 'zip', 'state', 'city', 'last_name', 'first_name']"
      ]
     },
     "execution_count": 76,
     "metadata": {},
     "output_type": "execute_result"
    }
   ],
   "execution_count": 76
  },
  {
   "metadata": {
    "ExecuteTime": {
     "end_time": "2025-07-03T18:08:50.801693Z",
     "start_time": "2025-07-03T18:08:50.789552Z"
    }
   },
   "cell_type": "code",
   "outputs": [
    {
     "data": {
      "text/plain": [
       "<list_reverseiterator at 0x2442a41b340>"
      ]
     },
     "execution_count": 75,
     "metadata": {},
     "output_type": "execute_result"
    }
   ],
   "execution_count": 75,
   "source": "",
   "id": "7584242ae9f5ed4e"
  },
  {
   "metadata": {
    "ExecuteTime": {
     "end_time": "2025-07-03T18:09:44.908541Z",
     "start_time": "2025-07-03T18:09:44.898954Z"
    }
   },
   "cell_type": "code",
   "source": "list(sorted(value))",
   "id": "5d074eec476f7c64",
   "outputs": [
    {
     "data": {
      "text/plain": [
       "['560049', '788', 'Bangalore', 'Gopinath', 'KA', 'Pandit']"
      ]
     },
     "execution_count": 77,
     "metadata": {},
     "output_type": "execute_result"
    }
   ],
   "execution_count": 77
  },
  {
   "metadata": {
    "ExecuteTime": {
     "end_time": "2025-07-03T18:10:14.747686Z",
     "start_time": "2025-07-03T18:10:14.737477Z"
    }
   },
   "cell_type": "code",
   "source": "list(sorted(value, reverse=True))",
   "id": "944a8db109df762c",
   "outputs": [
    {
     "data": {
      "text/plain": [
       "['Pandit', 'KA', 'Gopinath', 'Bangalore', '788', '560049']"
      ]
     },
     "execution_count": 78,
     "metadata": {},
     "output_type": "execute_result"
    }
   ],
   "execution_count": 78
  },
  {
   "metadata": {
    "ExecuteTime": {
     "end_time": "2025-07-03T18:11:01.828609Z",
     "start_time": "2025-07-03T18:11:01.816606Z"
    }
   },
   "cell_type": "code",
   "source": "d1 = {i: j for i, j in zip(key, value)}\n",
   "id": "815542965eac1869",
   "outputs": [],
   "execution_count": 80
  },
  {
   "metadata": {
    "ExecuteTime": {
     "end_time": "2025-07-03T18:11:07.095980Z",
     "start_time": "2025-07-03T18:11:07.081256Z"
    }
   },
   "cell_type": "code",
   "source": "d1",
   "id": "54085ae9be6378a3",
   "outputs": [
    {
     "data": {
      "text/plain": [
       "{'first_name': 'Gopinath',\n",
       " 'last_name': 'Pandit',\n",
       " 'city': 'Bangalore',\n",
       " 'state': 'KA',\n",
       " 'zip': '560049',\n",
       " 'phone': '788'}"
      ]
     },
     "execution_count": 81,
     "metadata": {},
     "output_type": "execute_result"
    }
   ],
   "execution_count": 81
  }
 ],
 "metadata": {
  "kernelspec": {
   "display_name": "Python 3",
   "language": "python",
   "name": "python3"
  },
  "language_info": {
   "codemirror_mode": {
    "name": "ipython",
    "version": 2
   },
   "file_extension": ".py",
   "mimetype": "text/x-python",
   "name": "python",
   "nbconvert_exporter": "python",
   "pygments_lexer": "ipython2",
   "version": "2.7.6"
  }
 },
 "nbformat": 4,
 "nbformat_minor": 5
}

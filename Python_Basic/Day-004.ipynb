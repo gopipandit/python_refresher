{
 "cells": [
  {
   "metadata": {},
   "cell_type": "markdown",
   "source": "***In-Built data structures in Python***",
   "id": "ceb03dabd08046c7"
  },
  {
   "metadata": {},
   "cell_type": "markdown",
   "source": "**List**",
   "id": "de510da428bfc7b0"
  },
  {
   "metadata": {
    "ExecuteTime": {
     "end_time": "2025-07-04T16:22:17.496784Z",
     "start_time": "2025-07-04T16:22:17.491304Z"
    }
   },
   "cell_type": "code",
   "source": "l = [1,2,3,4,5,6,7, \"gopi\"]",
   "id": "d25e7847501d500",
   "outputs": [],
   "execution_count": 6
  },
  {
   "metadata": {
    "ExecuteTime": {
     "end_time": "2025-07-04T16:24:09.914621Z",
     "start_time": "2025-07-04T16:24:09.908903Z"
    }
   },
   "cell_type": "code",
   "source": "l[3::2]",
   "id": "cbcb8e5b83f3387c",
   "outputs": [
    {
     "data": {
      "text/plain": [
       "[4, 6, 'gopi']"
      ]
     },
     "execution_count": 13,
     "metadata": {},
     "output_type": "execute_result"
    }
   ],
   "execution_count": 13
  },
  {
   "metadata": {
    "ExecuteTime": {
     "end_time": "2025-07-04T16:31:52.620188Z",
     "start_time": "2025-07-04T16:31:52.601393Z"
    }
   },
   "cell_type": "code",
   "source": "l[::-1]",
   "id": "a521f3bf2b2578cc",
   "outputs": [
    {
     "data": {
      "text/plain": [
       "['gopi', 7, 6, 5, 4, 3, 2, 1]"
      ]
     },
     "execution_count": 14,
     "metadata": {},
     "output_type": "execute_result"
    }
   ],
   "execution_count": 14
  },
  {
   "metadata": {
    "ExecuteTime": {
     "end_time": "2025-07-04T16:32:14.333394Z",
     "start_time": "2025-07-04T16:32:14.323199Z"
    }
   },
   "cell_type": "code",
   "source": "list(reversed(l))",
   "id": "18257743e5f35f77",
   "outputs": [
    {
     "data": {
      "text/plain": [
       "['gopi', 7, 6, 5, 4, 3, 2, 1]"
      ]
     },
     "execution_count": 16,
     "metadata": {},
     "output_type": "execute_result"
    }
   ],
   "execution_count": 16
  },
  {
   "metadata": {
    "ExecuteTime": {
     "end_time": "2025-07-04T16:32:31.972867Z",
     "start_time": "2025-07-04T16:32:31.968541Z"
    }
   },
   "cell_type": "code",
   "source": "c = 34+67j",
   "id": "22e973ee17a722b0",
   "outputs": [],
   "execution_count": 18
  },
  {
   "metadata": {
    "ExecuteTime": {
     "end_time": "2025-07-04T16:32:35.818345Z",
     "start_time": "2025-07-04T16:32:35.806910Z"
    }
   },
   "cell_type": "code",
   "source": "type(c)",
   "id": "b45e0aa9205a9105",
   "outputs": [
    {
     "data": {
      "text/plain": [
       "complex"
      ]
     },
     "execution_count": 19,
     "metadata": {},
     "output_type": "execute_result"
    }
   ],
   "execution_count": 19
  },
  {
   "metadata": {
    "ExecuteTime": {
     "end_time": "2025-07-04T16:32:41.937967Z",
     "start_time": "2025-07-04T16:32:41.929740Z"
    }
   },
   "cell_type": "code",
   "source": "c.imag",
   "id": "aa17368de7ab2f6c",
   "outputs": [
    {
     "data": {
      "text/plain": [
       "67.0"
      ]
     },
     "execution_count": 20,
     "metadata": {},
     "output_type": "execute_result"
    }
   ],
   "execution_count": 20
  },
  {
   "metadata": {
    "ExecuteTime": {
     "end_time": "2025-07-04T16:32:53.010525Z",
     "start_time": "2025-07-04T16:32:53.002573Z"
    }
   },
   "cell_type": "code",
   "source": "c.real",
   "id": "7c485e7a0c0fb002",
   "outputs": [
    {
     "data": {
      "text/plain": [
       "34.0"
      ]
     },
     "execution_count": 21,
     "metadata": {},
     "output_type": "execute_result"
    }
   ],
   "execution_count": 21
  },
  {
   "metadata": {
    "ExecuteTime": {
     "end_time": "2025-07-04T16:41:44.204825Z",
     "start_time": "2025-07-04T16:41:44.196480Z"
    }
   },
   "cell_type": "code",
   "source": "p = \"data engineer\"",
   "id": "a523021a843d0bc0",
   "outputs": [],
   "execution_count": 22
  },
  {
   "metadata": {
    "ExecuteTime": {
     "end_time": "2025-07-04T16:41:58.076800Z",
     "start_time": "2025-07-04T16:41:58.072307Z"
    }
   },
   "cell_type": "code",
   "source": "l.append(p)",
   "id": "714c4284ce84a8d5",
   "outputs": [],
   "execution_count": 24
  },
  {
   "metadata": {
    "ExecuteTime": {
     "end_time": "2025-07-04T16:42:00.721176Z",
     "start_time": "2025-07-04T16:42:00.711226Z"
    }
   },
   "cell_type": "code",
   "source": "l",
   "id": "46dbcdfc8c76520",
   "outputs": [
    {
     "data": {
      "text/plain": [
       "[1, 2, 3, 4, 5, 6, 7, 'gopi', 'data engineer']"
      ]
     },
     "execution_count": 25,
     "metadata": {},
     "output_type": "execute_result"
    }
   ],
   "execution_count": 25
  },
  {
   "metadata": {
    "ExecuteTime": {
     "end_time": "2025-07-04T16:42:11.676604Z",
     "start_time": "2025-07-04T16:42:11.670999Z"
    }
   },
   "cell_type": "code",
   "source": "l2 = [34,56,78,98]",
   "id": "49e47cb065a572cd",
   "outputs": [],
   "execution_count": 26
  },
  {
   "metadata": {
    "ExecuteTime": {
     "end_time": "2025-07-04T16:42:45.076619Z",
     "start_time": "2025-07-04T16:42:45.072619Z"
    }
   },
   "cell_type": "code",
   "source": "l.insert(2,p)",
   "id": "da2128a7d508e65d",
   "outputs": [],
   "execution_count": 30
  },
  {
   "metadata": {
    "ExecuteTime": {
     "end_time": "2025-07-04T16:42:47.769016Z",
     "start_time": "2025-07-04T16:42:47.760314Z"
    }
   },
   "cell_type": "code",
   "source": "l",
   "id": "80a348a9796ce48e",
   "outputs": [
    {
     "data": {
      "text/plain": [
       "[1, 2, 'data engineer', 3, 4, 5, 6, 7, 'gopi', 'data engineer']"
      ]
     },
     "execution_count": 31,
     "metadata": {},
     "output_type": "execute_result"
    }
   ],
   "execution_count": 31
  },
  {
   "metadata": {
    "ExecuteTime": {
     "end_time": "2025-07-04T16:43:04.239702Z",
     "start_time": "2025-07-04T16:43:04.234967Z"
    }
   },
   "cell_type": "code",
   "source": "l.remove(p)",
   "id": "69e268ba3fc4994e",
   "outputs": [],
   "execution_count": 33
  },
  {
   "metadata": {
    "ExecuteTime": {
     "end_time": "2025-07-04T16:43:06.340879Z",
     "start_time": "2025-07-04T16:43:06.334093Z"
    }
   },
   "cell_type": "code",
   "source": "l",
   "id": "7428207af1c9c597",
   "outputs": [
    {
     "data": {
      "text/plain": [
       "[1, 2, 3, 4, 5, 6, 7, 'gopi', 'data engineer']"
      ]
     },
     "execution_count": 34,
     "metadata": {},
     "output_type": "execute_result"
    }
   ],
   "execution_count": 34
  },
  {
   "metadata": {
    "ExecuteTime": {
     "end_time": "2025-07-04T16:43:57.277474Z",
     "start_time": "2025-07-04T16:43:57.271898Z"
    }
   },
   "cell_type": "code",
   "source": "l.extend(l2)",
   "id": "e28a11513ae48f90",
   "outputs": [],
   "execution_count": 35
  },
  {
   "metadata": {
    "ExecuteTime": {
     "end_time": "2025-07-04T16:44:00.179703Z",
     "start_time": "2025-07-04T16:44:00.172020Z"
    }
   },
   "cell_type": "code",
   "source": "l",
   "id": "69c32506a576bca3",
   "outputs": [
    {
     "data": {
      "text/plain": [
       "[1, 2, 3, 4, 5, 6, 7, 'gopi', 'data engineer', 34, 56, 78, 98]"
      ]
     },
     "execution_count": 36,
     "metadata": {},
     "output_type": "execute_result"
    }
   ],
   "execution_count": 36
  },
  {
   "metadata": {
    "ExecuteTime": {
     "end_time": "2025-07-04T16:52:37.766363Z",
     "start_time": "2025-07-04T16:52:37.756520Z"
    }
   },
   "cell_type": "code",
   "source": "l5 = l.copy()",
   "id": "ff1d86e6181ce6ec",
   "outputs": [],
   "execution_count": 37
  },
  {
   "metadata": {
    "ExecuteTime": {
     "end_time": "2025-07-04T16:52:41.953517Z",
     "start_time": "2025-07-04T16:52:41.943472Z"
    }
   },
   "cell_type": "code",
   "source": "id(l)",
   "id": "399494f25c0ca7dd",
   "outputs": [
    {
     "data": {
      "text/plain": [
       "1797306825024"
      ]
     },
     "execution_count": 38,
     "metadata": {},
     "output_type": "execute_result"
    }
   ],
   "execution_count": 38
  },
  {
   "metadata": {
    "ExecuteTime": {
     "end_time": "2025-07-04T16:52:57.463374Z",
     "start_time": "2025-07-04T16:52:57.456599Z"
    }
   },
   "cell_type": "code",
   "source": "l3 = l",
   "id": "b81827d32d024f38",
   "outputs": [],
   "execution_count": 40
  },
  {
   "metadata": {
    "ExecuteTime": {
     "end_time": "2025-07-04T16:53:06.908468Z",
     "start_time": "2025-07-04T16:53:06.897913Z"
    }
   },
   "cell_type": "code",
   "source": "id(l3)",
   "id": "d9a0d2528d5048c1",
   "outputs": [
    {
     "data": {
      "text/plain": [
       "1797306825024"
      ]
     },
     "execution_count": 41,
     "metadata": {},
     "output_type": "execute_result"
    }
   ],
   "execution_count": 41
  },
  {
   "metadata": {
    "ExecuteTime": {
     "end_time": "2025-07-04T16:54:06.651395Z",
     "start_time": "2025-07-04T16:54:06.647616Z"
    }
   },
   "cell_type": "code",
   "source": "l[0] = 1001",
   "id": "aa49dcba90371c",
   "outputs": [],
   "execution_count": 46
  },
  {
   "metadata": {
    "ExecuteTime": {
     "end_time": "2025-07-04T16:54:08.215453Z",
     "start_time": "2025-07-04T16:54:08.206655Z"
    }
   },
   "cell_type": "code",
   "source": "l3",
   "id": "72d423abdb91c69b",
   "outputs": [
    {
     "data": {
      "text/plain": [
       "[1001, 2, 3, 4, 5, 6, 7, 'gopi', 'data engineer', 34, 56, 78, 98]"
      ]
     },
     "execution_count": 47,
     "metadata": {},
     "output_type": "execute_result"
    }
   ],
   "execution_count": 47
  },
  {
   "metadata": {
    "ExecuteTime": {
     "end_time": "2025-07-04T16:54:10.510765Z",
     "start_time": "2025-07-04T16:54:10.497624Z"
    }
   },
   "cell_type": "code",
   "source": "l",
   "id": "d6294b0c646b8224",
   "outputs": [
    {
     "data": {
      "text/plain": [
       "[1001, 2, 3, 4, 5, 6, 7, 'gopi', 'data engineer', 34, 56, 78, 98]"
      ]
     },
     "execution_count": 48,
     "metadata": {},
     "output_type": "execute_result"
    }
   ],
   "execution_count": 48
  },
  {
   "metadata": {
    "ExecuteTime": {
     "end_time": "2025-07-04T16:52:47.619259Z",
     "start_time": "2025-07-04T16:52:47.600708Z"
    }
   },
   "cell_type": "code",
   "source": "id(l5)",
   "id": "5f1fb23207b7c8",
   "outputs": [
    {
     "data": {
      "text/plain": [
       "1797320283136"
      ]
     },
     "execution_count": 39,
     "metadata": {},
     "output_type": "execute_result"
    }
   ],
   "execution_count": 39
  },
  {
   "metadata": {
    "ExecuteTime": {
     "end_time": "2025-07-04T16:54:16.648390Z",
     "start_time": "2025-07-04T16:54:16.638399Z"
    }
   },
   "cell_type": "code",
   "source": "l5",
   "id": "19a799edd2dc88dc",
   "outputs": [
    {
     "data": {
      "text/plain": [
       "[1, 2, 3, 4, 5, 6, 7, 'gopi', 'data engineer', 34, 56, 78, 98]"
      ]
     },
     "execution_count": 49,
     "metadata": {},
     "output_type": "execute_result"
    }
   ],
   "execution_count": 49
  },
  {
   "metadata": {
    "ExecuteTime": {
     "end_time": "2025-07-04T16:55:34.204286Z",
     "start_time": "2025-07-04T16:55:34.197167Z"
    }
   },
   "cell_type": "code",
   "source": "l5.clear()",
   "id": "b78bc73e55d5d7c5",
   "outputs": [],
   "execution_count": 50
  },
  {
   "metadata": {},
   "cell_type": "code",
   "outputs": [],
   "execution_count": null,
   "source": "",
   "id": "c410c1489e99f872"
  },
  {
   "metadata": {},
   "cell_type": "markdown",
   "source": "",
   "id": "50566b5863ab1fed"
  },
  {
   "metadata": {},
   "cell_type": "markdown",
   "source": "",
   "id": "6d6c264b1b08103e"
  },
  {
   "metadata": {
    "ExecuteTime": {
     "end_time": "2025-07-04T16:55:37.846710Z",
     "start_time": "2025-07-04T16:55:37.841251Z"
    }
   },
   "cell_type": "code",
   "source": "l5",
   "id": "fab28d135d36f2b1",
   "outputs": [
    {
     "data": {
      "text/plain": [
       "[]"
      ]
     },
     "execution_count": 51,
     "metadata": {},
     "output_type": "execute_result"
    }
   ],
   "execution_count": 51
  },
  {
   "metadata": {},
   "cell_type": "markdown",
   "source": "### Tuple",
   "id": "145e24c2520aedac"
  },
  {
   "metadata": {
    "ExecuteTime": {
     "end_time": "2025-07-04T16:57:48.357724Z",
     "start_time": "2025-07-04T16:57:48.348172Z"
    }
   },
   "cell_type": "code",
   "source": "t = (2,3,4,5,7,7,8,\"Gopi\")",
   "id": "b1a9e42a41cafb50",
   "outputs": [],
   "execution_count": 53
  },
  {
   "metadata": {
    "ExecuteTime": {
     "end_time": "2025-07-04T16:57:54.410080Z",
     "start_time": "2025-07-04T16:57:54.394369Z"
    }
   },
   "cell_type": "code",
   "source": "type(t)",
   "id": "17588dc8c3d69df8",
   "outputs": [
    {
     "data": {
      "text/plain": [
       "tuple"
      ]
     },
     "execution_count": 54,
     "metadata": {},
     "output_type": "execute_result"
    }
   ],
   "execution_count": 54
  },
  {
   "metadata": {
    "ExecuteTime": {
     "end_time": "2025-07-04T16:58:10.796224Z",
     "start_time": "2025-07-04T16:58:10.628894Z"
    }
   },
   "cell_type": "code",
   "source": "t[0] = 25",
   "id": "79cb46ad6ccb9c94",
   "outputs": [
    {
     "ename": "TypeError",
     "evalue": "'tuple' object does not support item assignment",
     "output_type": "error",
     "traceback": [
      "\u001B[1;31m---------------------------------------------------------------------------\u001B[0m",
      "\u001B[1;31mTypeError\u001B[0m                                 Traceback (most recent call last)",
      "Cell \u001B[1;32mIn[56], line 1\u001B[0m\n\u001B[1;32m----> 1\u001B[0m \u001B[43mt\u001B[49m\u001B[43m[\u001B[49m\u001B[38;5;241;43m0\u001B[39;49m\u001B[43m]\u001B[49m \u001B[38;5;241m=\u001B[39m \u001B[38;5;241m25\u001B[39m\n",
      "\u001B[1;31mTypeError\u001B[0m: 'tuple' object does not support item assignment"
     ]
    }
   ],
   "execution_count": 56
  },
  {
   "metadata": {
    "ExecuteTime": {
     "end_time": "2025-07-04T17:02:43.162542Z",
     "start_time": "2025-07-04T17:02:43.156488Z"
    }
   },
   "cell_type": "code",
   "source": "t2 = 2,3,4",
   "id": "e4ccd93d8b00b008",
   "outputs": [],
   "execution_count": 58
  },
  {
   "metadata": {
    "ExecuteTime": {
     "end_time": "2025-07-04T17:02:50.866362Z",
     "start_time": "2025-07-04T17:02:50.858375Z"
    }
   },
   "cell_type": "code",
   "source": "type(t2)",
   "id": "bf0fdf063f9a0d2c",
   "outputs": [
    {
     "data": {
      "text/plain": [
       "tuple"
      ]
     },
     "execution_count": 59,
     "metadata": {},
     "output_type": "execute_result"
    }
   ],
   "execution_count": 59
  },
  {
   "metadata": {
    "ExecuteTime": {
     "end_time": "2025-07-04T17:03:24.598080Z",
     "start_time": "2025-07-04T17:03:24.594340Z"
    }
   },
   "cell_type": "code",
   "source": "a,b,c = t2",
   "id": "8cad428a81031248",
   "outputs": [],
   "execution_count": 62
  },
  {
   "metadata": {
    "ExecuteTime": {
     "end_time": "2025-07-04T17:03:32.431122Z",
     "start_time": "2025-07-04T17:03:32.424139Z"
    }
   },
   "cell_type": "code",
   "source": "a",
   "id": "d7d90fdcf868e0e2",
   "outputs": [
    {
     "data": {
      "text/plain": [
       "2"
      ]
     },
     "execution_count": 63,
     "metadata": {},
     "output_type": "execute_result"
    }
   ],
   "execution_count": 63
  },
  {
   "metadata": {
    "ExecuteTime": {
     "end_time": "2025-07-04T17:03:35.473401Z",
     "start_time": "2025-07-04T17:03:35.467212Z"
    }
   },
   "cell_type": "code",
   "source": "b",
   "id": "caa62b3bcff32e45",
   "outputs": [
    {
     "data": {
      "text/plain": [
       "3"
      ]
     },
     "execution_count": 64,
     "metadata": {},
     "output_type": "execute_result"
    }
   ],
   "execution_count": 64
  },
  {
   "metadata": {
    "ExecuteTime": {
     "end_time": "2025-07-04T17:03:36.669096Z",
     "start_time": "2025-07-04T17:03:36.662746Z"
    }
   },
   "cell_type": "code",
   "source": "c",
   "id": "9e85e94bad393a7b",
   "outputs": [
    {
     "data": {
      "text/plain": [
       "4"
      ]
     },
     "execution_count": 65,
     "metadata": {},
     "output_type": "execute_result"
    }
   ],
   "execution_count": 65
  },
  {
   "metadata": {
    "ExecuteTime": {
     "end_time": "2025-07-04T17:04:42.074377Z",
     "start_time": "2025-07-04T17:04:42.066694Z"
    }
   },
   "cell_type": "code",
   "source": "t.index(\"Gopi\")",
   "id": "a9dbe3ec3cbd0aff",
   "outputs": [
    {
     "data": {
      "text/plain": [
       "7"
      ]
     },
     "execution_count": 67,
     "metadata": {},
     "output_type": "execute_result"
    }
   ],
   "execution_count": 67
  },
  {
   "metadata": {
    "ExecuteTime": {
     "end_time": "2025-07-04T17:05:04.449593Z",
     "start_time": "2025-07-04T17:05:04.441860Z"
    }
   },
   "cell_type": "code",
   "source": "t.count(\"Gopi\")",
   "id": "abed0ee377e32054",
   "outputs": [
    {
     "data": {
      "text/plain": [
       "1"
      ]
     },
     "execution_count": 70,
     "metadata": {},
     "output_type": "execute_result"
    }
   ],
   "execution_count": 70
  },
  {
   "metadata": {
    "ExecuteTime": {
     "end_time": "2025-07-04T17:05:13.863343Z",
     "start_time": "2025-07-04T17:05:13.852780Z"
    }
   },
   "cell_type": "code",
   "source": "t.count(7)",
   "id": "f70e76dbb198d6c4",
   "outputs": [
    {
     "data": {
      "text/plain": [
       "2"
      ]
     },
     "execution_count": 71,
     "metadata": {},
     "output_type": "execute_result"
    }
   ],
   "execution_count": 71
  },
  {
   "metadata": {},
   "cell_type": "markdown",
   "source": "### Set",
   "id": "2356e58df33e6e4e"
  },
  {
   "metadata": {
    "ExecuteTime": {
     "end_time": "2025-07-04T17:12:16.373645Z",
     "start_time": "2025-07-04T17:12:16.362227Z"
    }
   },
   "cell_type": "code",
   "source": "s = {}",
   "id": "99b54ef997e3f0e6",
   "outputs": [],
   "execution_count": 72
  },
  {
   "metadata": {
    "ExecuteTime": {
     "end_time": "2025-07-04T17:12:25.727468Z",
     "start_time": "2025-07-04T17:12:25.715629Z"
    }
   },
   "cell_type": "code",
   "source": "type(s)",
   "id": "e7bbe89281d4c641",
   "outputs": [
    {
     "data": {
      "text/plain": [
       "dict"
      ]
     },
     "execution_count": 73,
     "metadata": {},
     "output_type": "execute_result"
    }
   ],
   "execution_count": 73
  },
  {
   "metadata": {
    "ExecuteTime": {
     "end_time": "2025-07-04T17:13:52.104364Z",
     "start_time": "2025-07-04T17:13:52.094568Z"
    }
   },
   "cell_type": "code",
   "source": "s = {34,56,78,87,5,6,7,7,8,9,9,\"gopi\",\"Gopi\"}",
   "id": "458258cae814d805",
   "outputs": [],
   "execution_count": 80
  },
  {
   "metadata": {
    "ExecuteTime": {
     "end_time": "2025-07-04T17:13:54.230616Z",
     "start_time": "2025-07-04T17:13:54.224592Z"
    }
   },
   "cell_type": "code",
   "source": "s",
   "id": "e3dfd79bb5abe3ff",
   "outputs": [
    {
     "data": {
      "text/plain": [
       "{34, 5, 56, 6, 7, 78, 8, 87, 9, 'Gopi', 'gopi'}"
      ]
     },
     "execution_count": 81,
     "metadata": {},
     "output_type": "execute_result"
    }
   ],
   "execution_count": 81
  },
  {
   "metadata": {
    "ExecuteTime": {
     "end_time": "2025-07-04T17:13:56.663543Z",
     "start_time": "2025-07-04T17:13:56.657060Z"
    }
   },
   "cell_type": "code",
   "source": "type(s)",
   "id": "3bcb7334b80ac9d0",
   "outputs": [
    {
     "data": {
      "text/plain": [
       "set"
      ]
     },
     "execution_count": 82,
     "metadata": {},
     "output_type": "execute_result"
    }
   ],
   "execution_count": 82
  },
  {
   "metadata": {
    "ExecuteTime": {
     "end_time": "2025-07-04T17:14:46.750484Z",
     "start_time": "2025-07-04T17:14:46.744051Z"
    }
   },
   "cell_type": "code",
   "source": "s1 = {(4,5,6,7,8,90,9)}",
   "id": "ca3d099fe89358b",
   "outputs": [],
   "execution_count": 86
  },
  {
   "metadata": {
    "ExecuteTime": {
     "end_time": "2025-07-04T17:14:53.753498Z",
     "start_time": "2025-07-04T17:14:53.743401Z"
    }
   },
   "cell_type": "code",
   "source": "s1",
   "id": "ffbd67f603bd9044",
   "outputs": [
    {
     "data": {
      "text/plain": [
       "{(4, 5, 6, 7, 8, 90, 9)}"
      ]
     },
     "execution_count": 87,
     "metadata": {},
     "output_type": "execute_result"
    }
   ],
   "execution_count": 87
  },
  {
   "metadata": {
    "ExecuteTime": {
     "end_time": "2025-07-04T17:14:33.139492Z",
     "start_time": "2025-07-04T17:14:32.855213Z"
    }
   },
   "cell_type": "code",
   "source": "s2 = {[23,34,5,6,7]}",
   "id": "dd301f2b047b0eec",
   "outputs": [
    {
     "ename": "TypeError",
     "evalue": "unhashable type: 'list'",
     "output_type": "error",
     "traceback": [
      "\u001B[1;31m---------------------------------------------------------------------------\u001B[0m",
      "\u001B[1;31mTypeError\u001B[0m                                 Traceback (most recent call last)",
      "Cell \u001B[1;32mIn[84], line 1\u001B[0m\n\u001B[1;32m----> 1\u001B[0m s2 \u001B[38;5;241m=\u001B[39m {[\u001B[38;5;241m23\u001B[39m,\u001B[38;5;241m34\u001B[39m,\u001B[38;5;241m5\u001B[39m,\u001B[38;5;241m6\u001B[39m,\u001B[38;5;241m7\u001B[39m]}\n",
      "\u001B[1;31mTypeError\u001B[0m: unhashable type: 'list'"
     ]
    }
   ],
   "execution_count": 84
  },
  {
   "metadata": {
    "ExecuteTime": {
     "end_time": "2025-07-04T17:15:38.646359Z",
     "start_time": "2025-07-04T17:15:38.635019Z"
    }
   },
   "cell_type": "code",
   "source": "set(l)",
   "id": "c2fd3c1677693f85",
   "outputs": [
    {
     "data": {
      "text/plain": [
       "{1001, 2, 3, 34, 4, 5, 56, 6, 7, 78, 98, 'data engineer', 'gopi'}"
      ]
     },
     "execution_count": 88,
     "metadata": {},
     "output_type": "execute_result"
    }
   ],
   "execution_count": 88
  },
  {
   "metadata": {
    "ExecuteTime": {
     "end_time": "2025-07-04T17:15:56.760555Z",
     "start_time": "2025-07-04T17:15:56.754129Z"
    }
   },
   "cell_type": "code",
   "source": "s.add(1001)",
   "id": "4c525097a1250a0f",
   "outputs": [],
   "execution_count": 89
  },
  {
   "metadata": {
    "ExecuteTime": {
     "end_time": "2025-07-04T17:15:59.229667Z",
     "start_time": "2025-07-04T17:15:59.224136Z"
    }
   },
   "cell_type": "code",
   "source": "s",
   "id": "953d3e807f4655d7",
   "outputs": [
    {
     "data": {
      "text/plain": [
       "{1001, 34, 5, 56, 6, 7, 78, 8, 87, 9, 'Gopi', 'gopi'}"
      ]
     },
     "execution_count": 90,
     "metadata": {},
     "output_type": "execute_result"
    }
   ],
   "execution_count": 90
  },
  {
   "metadata": {
    "ExecuteTime": {
     "end_time": "2025-07-04T17:16:24.589313Z",
     "start_time": "2025-07-04T17:16:24.584456Z"
    }
   },
   "cell_type": "code",
   "source": "s.discard(1001)",
   "id": "60186a740c3e3abc",
   "outputs": [],
   "execution_count": 91
  },
  {
   "metadata": {
    "ExecuteTime": {
     "end_time": "2025-07-04T17:16:27.309611Z",
     "start_time": "2025-07-04T17:16:27.303039Z"
    }
   },
   "cell_type": "code",
   "source": "s",
   "id": "c7c85fc1e4d204e9",
   "outputs": [
    {
     "data": {
      "text/plain": [
       "{34, 5, 56, 6, 7, 78, 8, 87, 9, 'Gopi', 'gopi'}"
      ]
     },
     "execution_count": 92,
     "metadata": {},
     "output_type": "execute_result"
    }
   ],
   "execution_count": 92
  },
  {
   "metadata": {
    "ExecuteTime": {
     "end_time": "2025-07-04T17:16:40.855540Z",
     "start_time": "2025-07-04T17:16:40.850542Z"
    }
   },
   "cell_type": "code",
   "source": "s.remove(\"Gopi\")",
   "id": "3efd4ba7641fb42e",
   "outputs": [],
   "execution_count": 93
  },
  {
   "metadata": {
    "ExecuteTime": {
     "end_time": "2025-07-04T17:16:43.175205Z",
     "start_time": "2025-07-04T17:16:43.168591Z"
    }
   },
   "cell_type": "code",
   "source": "s",
   "id": "53e689c9c61a2d18",
   "outputs": [
    {
     "data": {
      "text/plain": [
       "{34, 5, 56, 6, 7, 78, 8, 87, 9, 'gopi'}"
      ]
     },
     "execution_count": 94,
     "metadata": {},
     "output_type": "execute_result"
    }
   ],
   "execution_count": 94
  },
  {
   "metadata": {
    "ExecuteTime": {
     "end_time": "2025-07-04T17:17:26.985633Z",
     "start_time": "2025-07-04T17:17:26.980231Z"
    }
   },
   "cell_type": "code",
   "source": [
    "s1 = {2,4,5}\n",
    "s2 = {1,2,4}"
   ],
   "id": "ef69e41e2c9973bb",
   "outputs": [],
   "execution_count": 95
  },
  {
   "metadata": {
    "ExecuteTime": {
     "end_time": "2025-07-04T17:17:48.272196Z",
     "start_time": "2025-07-04T17:17:48.267072Z"
    }
   },
   "cell_type": "code",
   "source": "s1.difference(s2)",
   "id": "d631e52c54962805",
   "outputs": [
    {
     "data": {
      "text/plain": [
       "{5}"
      ]
     },
     "execution_count": 97,
     "metadata": {},
     "output_type": "execute_result"
    }
   ],
   "execution_count": 97
  },
  {
   "metadata": {
    "ExecuteTime": {
     "end_time": "2025-07-04T17:17:59.935345Z",
     "start_time": "2025-07-04T17:17:59.928907Z"
    }
   },
   "cell_type": "code",
   "source": "s2.difference(s1)",
   "id": "3dc3e211346effe1",
   "outputs": [
    {
     "data": {
      "text/plain": [
       "{1}"
      ]
     },
     "execution_count": 98,
     "metadata": {},
     "output_type": "execute_result"
    }
   ],
   "execution_count": 98
  },
  {
   "metadata": {
    "ExecuteTime": {
     "end_time": "2025-07-04T17:18:21.725017Z",
     "start_time": "2025-07-04T17:18:21.703240Z"
    }
   },
   "cell_type": "code",
   "source": "s1.intersection(s2)",
   "id": "3849c72e018de042",
   "outputs": [
    {
     "data": {
      "text/plain": [
       "{2, 4}"
      ]
     },
     "execution_count": 99,
     "metadata": {},
     "output_type": "execute_result"
    }
   ],
   "execution_count": 99
  },
  {
   "metadata": {
    "ExecuteTime": {
     "end_time": "2025-07-04T17:18:33.602Z",
     "start_time": "2025-07-04T17:18:33.590549Z"
    }
   },
   "cell_type": "code",
   "source": "s1.union(s2)",
   "id": "d4fe9c51cbb4e166",
   "outputs": [
    {
     "data": {
      "text/plain": [
       "{1, 2, 4, 5}"
      ]
     },
     "execution_count": 100,
     "metadata": {},
     "output_type": "execute_result"
    }
   ],
   "execution_count": 100
  },
  {
   "metadata": {
    "ExecuteTime": {
     "end_time": "2025-07-04T18:51:03.287787Z",
     "start_time": "2025-07-04T18:51:03.045273Z"
    }
   },
   "cell_type": "code",
   "source": "s1.symmetric_difference(s2)",
   "id": "e9b2f61543111ddd",
   "outputs": [
    {
     "data": {
      "text/plain": [
       "{1, 5}"
      ]
     },
     "execution_count": 101,
     "metadata": {},
     "output_type": "execute_result"
    }
   ],
   "execution_count": 101
  },
  {
   "metadata": {
    "ExecuteTime": {
     "end_time": "2025-07-04T18:51:33.793615Z",
     "start_time": "2025-07-04T18:51:33.786628Z"
    }
   },
   "cell_type": "code",
   "source": "s1.issubset(s2)",
   "id": "238a619c8a97e60f",
   "outputs": [
    {
     "data": {
      "text/plain": [
       "False"
      ]
     },
     "execution_count": 102,
     "metadata": {},
     "output_type": "execute_result"
    }
   ],
   "execution_count": 102
  },
  {
   "metadata": {
    "ExecuteTime": {
     "end_time": "2025-07-04T18:51:38.405147Z",
     "start_time": "2025-07-04T18:51:38.391464Z"
    }
   },
   "cell_type": "code",
   "source": "s1",
   "id": "9dcfbd3ee4bbf9f9",
   "outputs": [
    {
     "data": {
      "text/plain": [
       "{2, 4, 5}"
      ]
     },
     "execution_count": 103,
     "metadata": {},
     "output_type": "execute_result"
    }
   ],
   "execution_count": 103
  },
  {
   "metadata": {
    "ExecuteTime": {
     "end_time": "2025-07-04T18:51:46.442752Z",
     "start_time": "2025-07-04T18:51:46.436741Z"
    }
   },
   "cell_type": "code",
   "source": "s3 = {4,5}",
   "id": "1204a5c7e199cdd5",
   "outputs": [],
   "execution_count": 104
  },
  {
   "metadata": {
    "ExecuteTime": {
     "end_time": "2025-07-04T18:51:56.283820Z",
     "start_time": "2025-07-04T18:51:56.273024Z"
    }
   },
   "cell_type": "code",
   "source": "s1.issubset(s3)",
   "id": "314ffbe2cc2f575f",
   "outputs": [
    {
     "data": {
      "text/plain": [
       "False"
      ]
     },
     "execution_count": 105,
     "metadata": {},
     "output_type": "execute_result"
    }
   ],
   "execution_count": 105
  },
  {
   "metadata": {
    "ExecuteTime": {
     "end_time": "2025-07-04T18:53:04.644118Z",
     "start_time": "2025-07-04T18:53:04.637390Z"
    }
   },
   "cell_type": "code",
   "source": "s3.issubset(s1)",
   "id": "48417dbaa7d29eb8",
   "outputs": [
    {
     "data": {
      "text/plain": [
       "True"
      ]
     },
     "execution_count": 107,
     "metadata": {},
     "output_type": "execute_result"
    }
   ],
   "execution_count": 107
  },
  {
   "metadata": {
    "ExecuteTime": {
     "end_time": "2025-07-04T18:53:46.558329Z",
     "start_time": "2025-07-04T18:53:46.551278Z"
    }
   },
   "cell_type": "code",
   "source": "sf = frozenset([2,3,4,5,690])",
   "id": "fe4c30145d60c18d",
   "outputs": [],
   "execution_count": 109
  },
  {
   "metadata": {
    "ExecuteTime": {
     "end_time": "2025-07-04T18:53:53.018916Z",
     "start_time": "2025-07-04T18:53:53.012116Z"
    }
   },
   "cell_type": "code",
   "source": "type(sf)",
   "id": "679618216e2e7698",
   "outputs": [
    {
     "data": {
      "text/plain": [
       "frozenset"
      ]
     },
     "execution_count": 110,
     "metadata": {},
     "output_type": "execute_result"
    }
   ],
   "execution_count": 110
  },
  {
   "metadata": {},
   "cell_type": "code",
   "outputs": [],
   "execution_count": null,
   "source": "sf.",
   "id": "fd1ec6f339e5850a"
  },
  {
   "metadata": {},
   "cell_type": "markdown",
   "source": "###  Dictionary",
   "id": "2de2b97c80c1f749"
  },
  {
   "metadata": {
    "ExecuteTime": {
     "end_time": "2025-07-04T18:55:02.191007Z",
     "start_time": "2025-07-04T18:55:02.185888Z"
    }
   },
   "cell_type": "code",
   "source": "d = {}",
   "id": "dc3f1fd697798a65",
   "outputs": [],
   "execution_count": 111
  },
  {
   "metadata": {
    "ExecuteTime": {
     "end_time": "2025-07-04T18:56:33.769537Z",
     "start_time": "2025-07-04T18:56:33.759811Z"
    }
   },
   "cell_type": "code",
   "source": "d1 = {\"Name\" : \"Gopinath\", \"email\" : \"gopi1035@gmail.com\", \"profession\" : \"Data Engineer\"}",
   "id": "6ebb1a94cbc78704",
   "outputs": [],
   "execution_count": 113
  },
  {
   "metadata": {
    "ExecuteTime": {
     "end_time": "2025-07-04T18:56:38.047343Z",
     "start_time": "2025-07-04T18:56:38.034868Z"
    }
   },
   "cell_type": "code",
   "source": "d1.keys()",
   "id": "11ea1a9e2a9fed5f",
   "outputs": [
    {
     "data": {
      "text/plain": [
       "dict_keys(['Name', 'email', 'profession'])"
      ]
     },
     "execution_count": 114,
     "metadata": {},
     "output_type": "execute_result"
    }
   ],
   "execution_count": 114
  },
  {
   "metadata": {},
   "cell_type": "code",
   "outputs": [],
   "execution_count": null,
   "source": "",
   "id": "5a349578e490040f"
  },
  {
   "metadata": {},
   "cell_type": "code",
   "outputs": [],
   "execution_count": null,
   "source": "",
   "id": "4a80f2bbf27eeee2"
  },
  {
   "metadata": {},
   "cell_type": "code",
   "outputs": [],
   "execution_count": null,
   "source": "",
   "id": "280e1f639455728f"
  },
  {
   "metadata": {},
   "cell_type": "code",
   "outputs": [],
   "execution_count": null,
   "source": "",
   "id": "e738ddee6abe224b"
  },
  {
   "metadata": {},
   "cell_type": "code",
   "outputs": [],
   "execution_count": null,
   "source": "",
   "id": "8dfc4d852a739ff0"
  }
 ],
 "metadata": {
  "kernelspec": {
   "display_name": "Python 3",
   "language": "python",
   "name": "python3"
  },
  "language_info": {
   "codemirror_mode": {
    "name": "ipython",
    "version": 2
   },
   "file_extension": ".py",
   "mimetype": "text/x-python",
   "name": "python",
   "nbconvert_exporter": "python",
   "pygments_lexer": "ipython2",
   "version": "2.7.6"
  }
 },
 "nbformat": 4,
 "nbformat_minor": 5
}

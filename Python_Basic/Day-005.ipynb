{
 "cells": [
  {
   "metadata": {},
   "cell_type": "markdown",
   "source": "#### *Functions*",
   "id": "2aa7515a62345c16"
  },
  {
   "metadata": {
    "ExecuteTime": {
     "end_time": "2025-07-06T14:10:02.758534Z",
     "start_time": "2025-07-06T14:10:02.753358Z"
    }
   },
   "cell_type": "code",
   "source": [
    "def get_odd(*args):\n",
    "    odd = []\n",
    "    for i in args:\n",
    "        if i % 2 == 0:\n",
    "            odd.append(i)\n",
    "    return odd"
   ],
   "id": "62f27a8304421d2c",
   "outputs": [],
   "execution_count": 7
  },
  {
   "metadata": {
    "ExecuteTime": {
     "end_time": "2025-07-06T14:10:04.802574Z",
     "start_time": "2025-07-06T14:10:04.792493Z"
    }
   },
   "cell_type": "code",
   "source": "get_odd(2,3,4,5,6,7,8,6)",
   "id": "8146867aa714c631",
   "outputs": [
    {
     "data": {
      "text/plain": [
       "[2, 4, 6, 8, 6]"
      ]
     },
     "execution_count": 8,
     "metadata": {},
     "output_type": "execute_result"
    }
   ],
   "execution_count": 8
  },
  {
   "metadata": {
    "ExecuteTime": {
     "end_time": "2025-07-06T14:38:51.800350Z",
     "start_time": "2025-07-06T14:38:51.789280Z"
    }
   },
   "cell_type": "code",
   "source": "pow(23,3)",
   "id": "3727fa4a7f7837f3",
   "outputs": [
    {
     "data": {
      "text/plain": [
       "12167"
      ]
     },
     "execution_count": 9,
     "metadata": {},
     "output_type": "execute_result"
    }
   ],
   "execution_count": 9
  },
  {
   "metadata": {},
   "cell_type": "markdown",
   "source": "***args, kwrgs***",
   "id": "70a83d942e0dc26f"
  },
  {
   "metadata": {
    "ExecuteTime": {
     "end_time": "2025-07-06T14:49:10.382839Z",
     "start_time": "2025-07-06T14:49:10.375654Z"
    }
   },
   "cell_type": "code",
   "source": [
    "def test(a,b):\n",
    "    print(a+b)"
   ],
   "id": "b47408f1394698cc",
   "outputs": [],
   "execution_count": 11
  },
  {
   "metadata": {
    "ExecuteTime": {
     "end_time": "2025-07-06T14:49:16.702970Z",
     "start_time": "2025-07-06T14:49:16.698120Z"
    }
   },
   "cell_type": "code",
   "source": "test(35,67)",
   "id": "a1c38060447c7302",
   "outputs": [
    {
     "name": "stdout",
     "output_type": "stream",
     "text": [
      "102\n"
     ]
    }
   ],
   "execution_count": 12
  },
  {
   "metadata": {
    "ExecuteTime": {
     "end_time": "2025-07-06T14:49:51.045081Z",
     "start_time": "2025-07-06T14:49:51.040745Z"
    }
   },
   "cell_type": "code",
   "source": [
    "def test(a,b):\n",
    "    print(a/b)"
   ],
   "id": "579d509e8006e432",
   "outputs": [],
   "execution_count": 13
  },
  {
   "metadata": {
    "ExecuteTime": {
     "end_time": "2025-07-06T14:49:59.303189Z",
     "start_time": "2025-07-06T14:49:59.298028Z"
    }
   },
   "cell_type": "code",
   "source": "test(10,2)",
   "id": "d14d710389801a03",
   "outputs": [
    {
     "name": "stdout",
     "output_type": "stream",
     "text": [
      "5.0\n"
     ]
    }
   ],
   "execution_count": 14
  },
  {
   "metadata": {
    "ExecuteTime": {
     "end_time": "2025-07-06T14:50:40.984728Z",
     "start_time": "2025-07-06T14:50:40.976335Z"
    }
   },
   "cell_type": "code",
   "source": "test(b=3,a=69)",
   "id": "1abc7c61e60ff3ce",
   "outputs": [
    {
     "name": "stdout",
     "output_type": "stream",
     "text": [
      "23.0\n"
     ]
    }
   ],
   "execution_count": 16
  },
  {
   "metadata": {
    "ExecuteTime": {
     "end_time": "2025-07-06T15:11:30.101806Z",
     "start_time": "2025-07-06T15:11:30.095652Z"
    }
   },
   "cell_type": "code",
   "source": [
    "def get_odd(*args):\n",
    "    odd = []\n",
    "    for i in args:\n",
    "        if i % 2 == 0:\n",
    "            odd.append(i)\n",
    "    return odd"
   ],
   "id": "8ab7703dda219d92",
   "outputs": [],
   "execution_count": 17
  },
  {
   "metadata": {
    "ExecuteTime": {
     "end_time": "2025-07-06T15:13:20.369492Z",
     "start_time": "2025-07-06T15:13:20.363719Z"
    }
   },
   "cell_type": "code",
   "source": [
    "def add(*args):\n",
    "    sm = 0\n",
    "    for i in args:\n",
    "        sm +=i\n",
    "    return sm"
   ],
   "id": "d31b1785e6170d8e",
   "outputs": [],
   "execution_count": 23
  },
  {
   "metadata": {
    "ExecuteTime": {
     "end_time": "2025-07-06T15:13:22.439939Z",
     "start_time": "2025-07-06T15:13:22.429708Z"
    }
   },
   "cell_type": "code",
   "source": "add(2,3,4,5,6,7,8,6)",
   "id": "d39ad574cd0bfdd4",
   "outputs": [
    {
     "data": {
      "text/plain": [
       "41"
      ]
     },
     "execution_count": 24,
     "metadata": {},
     "output_type": "execute_result"
    }
   ],
   "execution_count": 24
  },
  {
   "metadata": {
    "ExecuteTime": {
     "end_time": "2025-07-06T15:13:59.892857Z",
     "start_time": "2025-07-06T15:13:59.888087Z"
    }
   },
   "cell_type": "code",
   "source": [
    "def add_div(b,*args, ):\n",
    "    sm = 0\n",
    "    for i in args:\n",
    "        sm +=i\n",
    "    \n",
    "    return sm/b"
   ],
   "id": "a7dd889fd93347b0",
   "outputs": [],
   "execution_count": 27
  },
  {
   "metadata": {
    "ExecuteTime": {
     "end_time": "2025-07-06T15:14:05.657267Z",
     "start_time": "2025-07-06T15:14:05.649657Z"
    }
   },
   "cell_type": "code",
   "source": "add_div(9,2,3,4,5,6,7,8,6,4)",
   "id": "2bf353d2bdd630b0",
   "outputs": [
    {
     "data": {
      "text/plain": [
       "5.0"
      ]
     },
     "execution_count": 28,
     "metadata": {},
     "output_type": "execute_result"
    }
   ],
   "execution_count": 28
  },
  {
   "metadata": {
    "ExecuteTime": {
     "end_time": "2025-07-06T15:14:53.338470Z",
     "start_time": "2025-07-06T15:14:53.334648Z"
    }
   },
   "cell_type": "code",
   "source": "#**kwrgs",
   "id": "b682cdf0d115fb3a",
   "outputs": [],
   "execution_count": 30
  },
  {
   "metadata": {
    "ExecuteTime": {
     "end_time": "2025-07-06T15:27:24.163039Z",
     "start_time": "2025-07-06T15:27:24.159142Z"
    }
   },
   "cell_type": "code",
   "source": [
    "def get_details(**kwrgs):\n",
    "    return kwrgs"
   ],
   "id": "daa6cca985e5034b",
   "outputs": [],
   "execution_count": 33
  },
  {
   "metadata": {},
   "cell_type": "code",
   "outputs": [],
   "execution_count": null,
   "source": "# name = \"Gopinath\", add = \"Bangalore\", Phone = 8989",
   "id": "977adaed32c81b24"
  },
  {
   "metadata": {
    "ExecuteTime": {
     "end_time": "2025-07-06T15:27:27.981947Z",
     "start_time": "2025-07-06T15:27:27.973633Z"
    }
   },
   "cell_type": "code",
   "source": "get_details(name = \"Gopinath\", add = \"Bangalore\", Phone = 8989)",
   "id": "d7b42a69e92513f8",
   "outputs": [
    {
     "data": {
      "text/plain": [
       "{'name': 'Gopinath', 'add': 'Bangalore', 'Phone': 8989}"
      ]
     },
     "execution_count": 34,
     "metadata": {},
     "output_type": "execute_result"
    }
   ],
   "execution_count": 34
  },
  {
   "metadata": {
    "ExecuteTime": {
     "end_time": "2025-07-06T15:33:46.532385Z",
     "start_time": "2025-07-06T15:33:46.527401Z"
    }
   },
   "cell_type": "code",
   "source": [
    "def great(name):\n",
    "    print(f\"You are great {name}!\")"
   ],
   "id": "3c4fd8ad7011c292",
   "outputs": [],
   "execution_count": 35
  },
  {
   "metadata": {
    "ExecuteTime": {
     "end_time": "2025-07-06T15:34:18.188359Z",
     "start_time": "2025-07-06T15:34:18.182685Z"
    }
   },
   "cell_type": "code",
   "source": "great(\"Gopi\")",
   "id": "dc70db2fb5419344",
   "outputs": [
    {
     "name": "stdout",
     "output_type": "stream",
     "text": [
      "You are great Gopi!\n"
     ]
    }
   ],
   "execution_count": 36
  },
  {
   "metadata": {},
   "cell_type": "markdown",
   "source": "***Lambda Function***",
   "id": "c983a20fe0616592"
  },
  {
   "metadata": {
    "ExecuteTime": {
     "end_time": "2025-07-06T16:43:03.041558Z",
     "start_time": "2025-07-06T16:43:03.035124Z"
    }
   },
   "cell_type": "code",
   "source": "a = lambda x,y : x+y ",
   "id": "6aecb85b90e29812",
   "outputs": [],
   "execution_count": 40
  },
  {
   "metadata": {
    "ExecuteTime": {
     "end_time": "2025-07-06T16:43:10.276373Z",
     "start_time": "2025-07-06T16:43:10.270885Z"
    }
   },
   "cell_type": "code",
   "source": "a(34,56)",
   "id": "afc596d980c08723",
   "outputs": [
    {
     "data": {
      "text/plain": [
       "90"
      ]
     },
     "execution_count": 41,
     "metadata": {},
     "output_type": "execute_result"
    }
   ],
   "execution_count": 41
  },
  {
   "metadata": {
    "ExecuteTime": {
     "end_time": "2025-07-06T16:46:08.038544Z",
     "start_time": "2025-07-06T16:46:08.033517Z"
    }
   },
   "cell_type": "code",
   "source": [
    "import pandas as pd\n",
    "import seaborn as sns"
   ],
   "id": "c324154bc9d1a4e7",
   "outputs": [],
   "execution_count": 44
  },
  {
   "metadata": {
    "ExecuteTime": {
     "end_time": "2025-07-06T16:46:21.384647Z",
     "start_time": "2025-07-06T16:46:21.223897Z"
    }
   },
   "cell_type": "code",
   "source": "sns.get_dataset_names()",
   "id": "d90d46c2fc2293af",
   "outputs": [
    {
     "data": {
      "text/plain": [
       "['anagrams',\n",
       " 'anscombe',\n",
       " 'attention',\n",
       " 'brain_networks',\n",
       " 'car_crashes',\n",
       " 'diamonds',\n",
       " 'dots',\n",
       " 'dowjones',\n",
       " 'exercise',\n",
       " 'flights',\n",
       " 'fmri',\n",
       " 'geyser',\n",
       " 'glue',\n",
       " 'healthexp',\n",
       " 'iris',\n",
       " 'mpg',\n",
       " 'penguins',\n",
       " 'planets',\n",
       " 'seaice',\n",
       " 'taxis',\n",
       " 'tips',\n",
       " 'titanic']"
      ]
     },
     "execution_count": 45,
     "metadata": {},
     "output_type": "execute_result"
    }
   ],
   "execution_count": 45
  },
  {
   "metadata": {
    "ExecuteTime": {
     "end_time": "2025-07-06T16:46:58.209014Z",
     "start_time": "2025-07-06T16:46:58.162395Z"
    }
   },
   "cell_type": "code",
   "source": "df = sns.load_dataset('taxis')",
   "id": "7e5ca6a93c8d258e",
   "outputs": [],
   "execution_count": 50
  },
  {
   "metadata": {
    "ExecuteTime": {
     "end_time": "2025-07-06T16:46:59.365240Z",
     "start_time": "2025-07-06T16:46:59.350722Z"
    }
   },
   "cell_type": "code",
   "source": "df.head()",
   "id": "bac5453965e667e7",
   "outputs": [
    {
     "data": {
      "text/plain": [
       "               pickup             dropoff  passengers  distance  fare   tip  \\\n",
       "0 2019-03-23 20:21:09 2019-03-23 20:27:24           1      1.60   7.0  2.15   \n",
       "1 2019-03-04 16:11:55 2019-03-04 16:19:00           1      0.79   5.0  0.00   \n",
       "2 2019-03-27 17:53:01 2019-03-27 18:00:25           1      1.37   7.5  2.36   \n",
       "3 2019-03-10 01:23:59 2019-03-10 01:49:51           1      7.70  27.0  6.15   \n",
       "4 2019-03-30 13:27:42 2019-03-30 13:37:14           3      2.16   9.0  1.10   \n",
       "\n",
       "   tolls  total   color      payment            pickup_zone  \\\n",
       "0    0.0  12.95  yellow  credit card        Lenox Hill West   \n",
       "1    0.0   9.30  yellow         cash  Upper West Side South   \n",
       "2    0.0  14.16  yellow  credit card          Alphabet City   \n",
       "3    0.0  36.95  yellow  credit card              Hudson Sq   \n",
       "4    0.0  13.40  yellow  credit card           Midtown East   \n",
       "\n",
       "            dropoff_zone pickup_borough dropoff_borough  \n",
       "0    UN/Turtle Bay South      Manhattan       Manhattan  \n",
       "1  Upper West Side South      Manhattan       Manhattan  \n",
       "2           West Village      Manhattan       Manhattan  \n",
       "3         Yorkville West      Manhattan       Manhattan  \n",
       "4         Yorkville West      Manhattan       Manhattan  "
      ],
      "text/html": [
       "<div>\n",
       "<style scoped>\n",
       "    .dataframe tbody tr th:only-of-type {\n",
       "        vertical-align: middle;\n",
       "    }\n",
       "\n",
       "    .dataframe tbody tr th {\n",
       "        vertical-align: top;\n",
       "    }\n",
       "\n",
       "    .dataframe thead th {\n",
       "        text-align: right;\n",
       "    }\n",
       "</style>\n",
       "<table border=\"1\" class=\"dataframe\">\n",
       "  <thead>\n",
       "    <tr style=\"text-align: right;\">\n",
       "      <th></th>\n",
       "      <th>pickup</th>\n",
       "      <th>dropoff</th>\n",
       "      <th>passengers</th>\n",
       "      <th>distance</th>\n",
       "      <th>fare</th>\n",
       "      <th>tip</th>\n",
       "      <th>tolls</th>\n",
       "      <th>total</th>\n",
       "      <th>color</th>\n",
       "      <th>payment</th>\n",
       "      <th>pickup_zone</th>\n",
       "      <th>dropoff_zone</th>\n",
       "      <th>pickup_borough</th>\n",
       "      <th>dropoff_borough</th>\n",
       "    </tr>\n",
       "  </thead>\n",
       "  <tbody>\n",
       "    <tr>\n",
       "      <th>0</th>\n",
       "      <td>2019-03-23 20:21:09</td>\n",
       "      <td>2019-03-23 20:27:24</td>\n",
       "      <td>1</td>\n",
       "      <td>1.60</td>\n",
       "      <td>7.0</td>\n",
       "      <td>2.15</td>\n",
       "      <td>0.0</td>\n",
       "      <td>12.95</td>\n",
       "      <td>yellow</td>\n",
       "      <td>credit card</td>\n",
       "      <td>Lenox Hill West</td>\n",
       "      <td>UN/Turtle Bay South</td>\n",
       "      <td>Manhattan</td>\n",
       "      <td>Manhattan</td>\n",
       "    </tr>\n",
       "    <tr>\n",
       "      <th>1</th>\n",
       "      <td>2019-03-04 16:11:55</td>\n",
       "      <td>2019-03-04 16:19:00</td>\n",
       "      <td>1</td>\n",
       "      <td>0.79</td>\n",
       "      <td>5.0</td>\n",
       "      <td>0.00</td>\n",
       "      <td>0.0</td>\n",
       "      <td>9.30</td>\n",
       "      <td>yellow</td>\n",
       "      <td>cash</td>\n",
       "      <td>Upper West Side South</td>\n",
       "      <td>Upper West Side South</td>\n",
       "      <td>Manhattan</td>\n",
       "      <td>Manhattan</td>\n",
       "    </tr>\n",
       "    <tr>\n",
       "      <th>2</th>\n",
       "      <td>2019-03-27 17:53:01</td>\n",
       "      <td>2019-03-27 18:00:25</td>\n",
       "      <td>1</td>\n",
       "      <td>1.37</td>\n",
       "      <td>7.5</td>\n",
       "      <td>2.36</td>\n",
       "      <td>0.0</td>\n",
       "      <td>14.16</td>\n",
       "      <td>yellow</td>\n",
       "      <td>credit card</td>\n",
       "      <td>Alphabet City</td>\n",
       "      <td>West Village</td>\n",
       "      <td>Manhattan</td>\n",
       "      <td>Manhattan</td>\n",
       "    </tr>\n",
       "    <tr>\n",
       "      <th>3</th>\n",
       "      <td>2019-03-10 01:23:59</td>\n",
       "      <td>2019-03-10 01:49:51</td>\n",
       "      <td>1</td>\n",
       "      <td>7.70</td>\n",
       "      <td>27.0</td>\n",
       "      <td>6.15</td>\n",
       "      <td>0.0</td>\n",
       "      <td>36.95</td>\n",
       "      <td>yellow</td>\n",
       "      <td>credit card</td>\n",
       "      <td>Hudson Sq</td>\n",
       "      <td>Yorkville West</td>\n",
       "      <td>Manhattan</td>\n",
       "      <td>Manhattan</td>\n",
       "    </tr>\n",
       "    <tr>\n",
       "      <th>4</th>\n",
       "      <td>2019-03-30 13:27:42</td>\n",
       "      <td>2019-03-30 13:37:14</td>\n",
       "      <td>3</td>\n",
       "      <td>2.16</td>\n",
       "      <td>9.0</td>\n",
       "      <td>1.10</td>\n",
       "      <td>0.0</td>\n",
       "      <td>13.40</td>\n",
       "      <td>yellow</td>\n",
       "      <td>credit card</td>\n",
       "      <td>Midtown East</td>\n",
       "      <td>Yorkville West</td>\n",
       "      <td>Manhattan</td>\n",
       "      <td>Manhattan</td>\n",
       "    </tr>\n",
       "  </tbody>\n",
       "</table>\n",
       "</div>"
      ]
     },
     "execution_count": 51,
     "metadata": {},
     "output_type": "execute_result"
    }
   ],
   "execution_count": 51
  },
  {
   "metadata": {
    "ExecuteTime": {
     "end_time": "2025-07-06T16:47:28.023005Z",
     "start_time": "2025-07-06T16:47:28.015455Z"
    }
   },
   "cell_type": "code",
   "source": "df.columns",
   "id": "64df636f34bf2cc7",
   "outputs": [
    {
     "data": {
      "text/plain": [
       "Index(['pickup', 'dropoff', 'passengers', 'distance', 'fare', 'tip', 'tolls',\n",
       "       'total', 'color', 'payment', 'pickup_zone', 'dropoff_zone',\n",
       "       'pickup_borough', 'dropoff_borough'],\n",
       "      dtype='object')"
      ]
     },
     "execution_count": 53,
     "metadata": {},
     "output_type": "execute_result"
    }
   ],
   "execution_count": 53
  },
  {
   "metadata": {
    "ExecuteTime": {
     "end_time": "2025-07-06T16:48:18.778062Z",
     "start_time": "2025-07-06T16:48:18.768840Z"
    }
   },
   "cell_type": "code",
   "source": "df2 = df[['pickup_borough','pickup_zone']]",
   "id": "31ab0cc5cc261208",
   "outputs": [],
   "execution_count": 55
  },
  {
   "metadata": {
    "ExecuteTime": {
     "end_time": "2025-07-06T16:48:33.809356Z",
     "start_time": "2025-07-06T16:48:33.799225Z"
    }
   },
   "cell_type": "code",
   "source": "df2.head()",
   "id": "8be790a9331d1c7e",
   "outputs": [
    {
     "data": {
      "text/plain": [
       "  pickup_borough            pickup_zone\n",
       "0      Manhattan        Lenox Hill West\n",
       "1      Manhattan  Upper West Side South\n",
       "2      Manhattan          Alphabet City\n",
       "3      Manhattan              Hudson Sq\n",
       "4      Manhattan           Midtown East"
      ],
      "text/html": [
       "<div>\n",
       "<style scoped>\n",
       "    .dataframe tbody tr th:only-of-type {\n",
       "        vertical-align: middle;\n",
       "    }\n",
       "\n",
       "    .dataframe tbody tr th {\n",
       "        vertical-align: top;\n",
       "    }\n",
       "\n",
       "    .dataframe thead th {\n",
       "        text-align: right;\n",
       "    }\n",
       "</style>\n",
       "<table border=\"1\" class=\"dataframe\">\n",
       "  <thead>\n",
       "    <tr style=\"text-align: right;\">\n",
       "      <th></th>\n",
       "      <th>pickup_borough</th>\n",
       "      <th>pickup_zone</th>\n",
       "    </tr>\n",
       "  </thead>\n",
       "  <tbody>\n",
       "    <tr>\n",
       "      <th>0</th>\n",
       "      <td>Manhattan</td>\n",
       "      <td>Lenox Hill West</td>\n",
       "    </tr>\n",
       "    <tr>\n",
       "      <th>1</th>\n",
       "      <td>Manhattan</td>\n",
       "      <td>Upper West Side South</td>\n",
       "    </tr>\n",
       "    <tr>\n",
       "      <th>2</th>\n",
       "      <td>Manhattan</td>\n",
       "      <td>Alphabet City</td>\n",
       "    </tr>\n",
       "    <tr>\n",
       "      <th>3</th>\n",
       "      <td>Manhattan</td>\n",
       "      <td>Hudson Sq</td>\n",
       "    </tr>\n",
       "    <tr>\n",
       "      <th>4</th>\n",
       "      <td>Manhattan</td>\n",
       "      <td>Midtown East</td>\n",
       "    </tr>\n",
       "  </tbody>\n",
       "</table>\n",
       "</div>"
      ]
     },
     "execution_count": 57,
     "metadata": {},
     "output_type": "execute_result"
    }
   ],
   "execution_count": 57
  },
  {
   "metadata": {},
   "cell_type": "code",
   "outputs": [],
   "execution_count": null,
   "source": "",
   "id": "cab185e16ed03511"
  },
  {
   "metadata": {},
   "cell_type": "code",
   "outputs": [],
   "execution_count": null,
   "source": "d",
   "id": "f59e75931446574b"
  },
  {
   "metadata": {
    "ExecuteTime": {
     "end_time": "2025-07-06T16:59:31.843524Z",
     "start_time": "2025-07-06T16:59:31.836681Z"
    }
   },
   "cell_type": "code",
   "source": "df23 = df2.groupby('pickup_borough')['pickup_zone'].apply(lambda x: list(x)).reset_index()",
   "id": "8e0a58a6d9f5e18d",
   "outputs": [],
   "execution_count": 85
  },
  {
   "metadata": {
    "ExecuteTime": {
     "end_time": "2025-07-06T16:59:33.748195Z",
     "start_time": "2025-07-06T16:59:33.743804Z"
    }
   },
   "cell_type": "code",
   "source": "df23.shape",
   "id": "69e7151d6e2df7eb",
   "outputs": [
    {
     "data": {
      "text/plain": [
       "(4, 2)"
      ]
     },
     "execution_count": 86,
     "metadata": {},
     "output_type": "execute_result"
    }
   ],
   "execution_count": 86
  },
  {
   "metadata": {
    "ExecuteTime": {
     "end_time": "2025-07-06T16:59:35.758422Z",
     "start_time": "2025-07-06T16:59:35.753394Z"
    }
   },
   "cell_type": "code",
   "source": "df23.columns",
   "id": "4bfa72a63a2df7db",
   "outputs": [
    {
     "data": {
      "text/plain": [
       "Index(['pickup_borough', 'pickup_zone'], dtype='object')"
      ]
     },
     "execution_count": 87,
     "metadata": {},
     "output_type": "execute_result"
    }
   ],
   "execution_count": 87
  },
  {
   "metadata": {
    "ExecuteTime": {
     "end_time": "2025-07-06T16:59:37.176128Z",
     "start_time": "2025-07-06T16:59:37.163202Z"
    }
   },
   "cell_type": "code",
   "source": "df23",
   "id": "ad51feec706b4b18",
   "outputs": [
    {
     "data": {
      "text/plain": [
       "  pickup_borough                                        pickup_zone\n",
       "0          Bronx  [East Tremont, Mott Haven/Port Morris, Soundvi...\n",
       "1       Brooklyn  [Brooklyn Heights, DUMBO/Vinegar Hill, Stuyves...\n",
       "2      Manhattan  [Lenox Hill West, Upper West Side South, Alpha...\n",
       "3         Queens  [LaGuardia Airport, LaGuardia Airport, LaGuard..."
      ],
      "text/html": [
       "<div>\n",
       "<style scoped>\n",
       "    .dataframe tbody tr th:only-of-type {\n",
       "        vertical-align: middle;\n",
       "    }\n",
       "\n",
       "    .dataframe tbody tr th {\n",
       "        vertical-align: top;\n",
       "    }\n",
       "\n",
       "    .dataframe thead th {\n",
       "        text-align: right;\n",
       "    }\n",
       "</style>\n",
       "<table border=\"1\" class=\"dataframe\">\n",
       "  <thead>\n",
       "    <tr style=\"text-align: right;\">\n",
       "      <th></th>\n",
       "      <th>pickup_borough</th>\n",
       "      <th>pickup_zone</th>\n",
       "    </tr>\n",
       "  </thead>\n",
       "  <tbody>\n",
       "    <tr>\n",
       "      <th>0</th>\n",
       "      <td>Bronx</td>\n",
       "      <td>[East Tremont, Mott Haven/Port Morris, Soundvi...</td>\n",
       "    </tr>\n",
       "    <tr>\n",
       "      <th>1</th>\n",
       "      <td>Brooklyn</td>\n",
       "      <td>[Brooklyn Heights, DUMBO/Vinegar Hill, Stuyves...</td>\n",
       "    </tr>\n",
       "    <tr>\n",
       "      <th>2</th>\n",
       "      <td>Manhattan</td>\n",
       "      <td>[Lenox Hill West, Upper West Side South, Alpha...</td>\n",
       "    </tr>\n",
       "    <tr>\n",
       "      <th>3</th>\n",
       "      <td>Queens</td>\n",
       "      <td>[LaGuardia Airport, LaGuardia Airport, LaGuard...</td>\n",
       "    </tr>\n",
       "  </tbody>\n",
       "</table>\n",
       "</div>"
      ]
     },
     "execution_count": 88,
     "metadata": {},
     "output_type": "execute_result"
    }
   ],
   "execution_count": 88
  },
  {
   "metadata": {
    "ExecuteTime": {
     "end_time": "2025-07-06T16:52:38.831246Z",
     "start_time": "2025-07-06T16:52:38.824460Z"
    }
   },
   "cell_type": "code",
   "source": "import numpy as np",
   "id": "6d23adc424745973",
   "outputs": [],
   "execution_count": 71
  },
  {
   "metadata": {
    "ExecuteTime": {
     "end_time": "2025-07-06T16:59:41.993925Z",
     "start_time": "2025-07-06T16:59:41.968296Z"
    }
   },
   "cell_type": "code",
   "source": "df23.explode('pickup_zone')",
   "id": "f175a267b51751e6",
   "outputs": [
    {
     "data": {
      "text/plain": [
       "   pickup_borough                       pickup_zone\n",
       "0           Bronx                      East Tremont\n",
       "0           Bronx            Mott Haven/Port Morris\n",
       "0           Bronx             Soundview/Castle Hill\n",
       "0           Bronx  East Concourse/Concourse Village\n",
       "0           Bronx          Williamsbridge/Olinville\n",
       "..            ...                               ...\n",
       "3          Queens                          Elmhurst\n",
       "3          Queens                 Hillcrest/Pomonok\n",
       "3          Queens                      Forest Hills\n",
       "3          Queens                      Saint Albans\n",
       "3          Queens                           Jamaica\n",
       "\n",
       "[6407 rows x 2 columns]"
      ],
      "text/html": [
       "<div>\n",
       "<style scoped>\n",
       "    .dataframe tbody tr th:only-of-type {\n",
       "        vertical-align: middle;\n",
       "    }\n",
       "\n",
       "    .dataframe tbody tr th {\n",
       "        vertical-align: top;\n",
       "    }\n",
       "\n",
       "    .dataframe thead th {\n",
       "        text-align: right;\n",
       "    }\n",
       "</style>\n",
       "<table border=\"1\" class=\"dataframe\">\n",
       "  <thead>\n",
       "    <tr style=\"text-align: right;\">\n",
       "      <th></th>\n",
       "      <th>pickup_borough</th>\n",
       "      <th>pickup_zone</th>\n",
       "    </tr>\n",
       "  </thead>\n",
       "  <tbody>\n",
       "    <tr>\n",
       "      <th>0</th>\n",
       "      <td>Bronx</td>\n",
       "      <td>East Tremont</td>\n",
       "    </tr>\n",
       "    <tr>\n",
       "      <th>0</th>\n",
       "      <td>Bronx</td>\n",
       "      <td>Mott Haven/Port Morris</td>\n",
       "    </tr>\n",
       "    <tr>\n",
       "      <th>0</th>\n",
       "      <td>Bronx</td>\n",
       "      <td>Soundview/Castle Hill</td>\n",
       "    </tr>\n",
       "    <tr>\n",
       "      <th>0</th>\n",
       "      <td>Bronx</td>\n",
       "      <td>East Concourse/Concourse Village</td>\n",
       "    </tr>\n",
       "    <tr>\n",
       "      <th>0</th>\n",
       "      <td>Bronx</td>\n",
       "      <td>Williamsbridge/Olinville</td>\n",
       "    </tr>\n",
       "    <tr>\n",
       "      <th>...</th>\n",
       "      <td>...</td>\n",
       "      <td>...</td>\n",
       "    </tr>\n",
       "    <tr>\n",
       "      <th>3</th>\n",
       "      <td>Queens</td>\n",
       "      <td>Elmhurst</td>\n",
       "    </tr>\n",
       "    <tr>\n",
       "      <th>3</th>\n",
       "      <td>Queens</td>\n",
       "      <td>Hillcrest/Pomonok</td>\n",
       "    </tr>\n",
       "    <tr>\n",
       "      <th>3</th>\n",
       "      <td>Queens</td>\n",
       "      <td>Forest Hills</td>\n",
       "    </tr>\n",
       "    <tr>\n",
       "      <th>3</th>\n",
       "      <td>Queens</td>\n",
       "      <td>Saint Albans</td>\n",
       "    </tr>\n",
       "    <tr>\n",
       "      <th>3</th>\n",
       "      <td>Queens</td>\n",
       "      <td>Jamaica</td>\n",
       "    </tr>\n",
       "  </tbody>\n",
       "</table>\n",
       "<p>6407 rows × 2 columns</p>\n",
       "</div>"
      ]
     },
     "execution_count": 89,
     "metadata": {},
     "output_type": "execute_result"
    }
   ],
   "execution_count": 89
  }
 ],
 "metadata": {
  "kernelspec": {
   "display_name": "Python 3",
   "language": "python",
   "name": "python3"
  },
  "language_info": {
   "codemirror_mode": {
    "name": "ipython",
    "version": 2
   },
   "file_extension": ".py",
   "mimetype": "text/x-python",
   "name": "python",
   "nbconvert_exporter": "python",
   "pygments_lexer": "ipython2",
   "version": "2.7.6"
  }
 },
 "nbformat": 4,
 "nbformat_minor": 5
}

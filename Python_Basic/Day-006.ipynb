{
 "cells": [
  {
   "cell_type": "code",
   "id": "initial_id",
   "metadata": {
    "collapsed": true,
    "ExecuteTime": {
     "end_time": "2025-07-08T17:10:04.776620Z",
     "start_time": "2025-07-08T17:10:04.773057Z"
    }
   },
   "source": [
    "from package_an_module.mathematics.basicMath import BasicMath\n",
    "from package_an_module.mathematics.advanceMath import *"
   ],
   "outputs": [],
   "execution_count": 6
  },
  {
   "metadata": {
    "ExecuteTime": {
     "end_time": "2025-07-08T17:10:04.811322Z",
     "start_time": "2025-07-08T17:10:04.807424Z"
    }
   },
   "cell_type": "code",
   "source": "m = BasicMath()",
   "id": "1d1520efe32be00e",
   "outputs": [],
   "execution_count": 7
  },
  {
   "metadata": {
    "ExecuteTime": {
     "end_time": "2025-07-08T17:10:04.845699Z",
     "start_time": "2025-07-08T17:10:04.839098Z"
    }
   },
   "cell_type": "code",
   "source": "m.multiply(25,3)",
   "id": "c222ed905b825a5a",
   "outputs": [
    {
     "data": {
      "text/plain": [
       "75"
      ]
     },
     "execution_count": 8,
     "metadata": {},
     "output_type": "execute_result"
    }
   ],
   "execution_count": 8
  },
  {
   "metadata": {
    "ExecuteTime": {
     "end_time": "2025-07-08T17:10:04.963476Z",
     "start_time": "2025-07-08T17:10:04.958403Z"
    }
   },
   "cell_type": "code",
   "source": "m.add(25, 3)",
   "id": "ab20886434349cfd",
   "outputs": [
    {
     "data": {
      "text/plain": [
       "28"
      ]
     },
     "execution_count": 9,
     "metadata": {},
     "output_type": "execute_result"
    }
   ],
   "execution_count": 9
  },
  {
   "metadata": {
    "ExecuteTime": {
     "end_time": "2025-07-08T17:10:05.112046Z",
     "start_time": "2025-07-08T17:10:05.105647Z"
    }
   },
   "cell_type": "code",
   "source": "m.subtract(56,6)",
   "id": "34ed79cbb818b844",
   "outputs": [
    {
     "data": {
      "text/plain": [
       "50"
      ]
     },
     "execution_count": 10,
     "metadata": {},
     "output_type": "execute_result"
    }
   ],
   "execution_count": 10
  },
  {
   "metadata": {
    "ExecuteTime": {
     "end_time": "2025-07-08T17:10:05.236125Z",
     "start_time": "2025-07-08T17:10:05.228882Z"
    }
   },
   "cell_type": "code",
   "source": "m.divide(25,5)",
   "id": "831f6aa72994a930",
   "outputs": [
    {
     "data": {
      "text/plain": [
       "5.0"
      ]
     },
     "execution_count": 11,
     "metadata": {},
     "output_type": "execute_result"
    }
   ],
   "execution_count": 11
  },
  {
   "metadata": {
    "ExecuteTime": {
     "end_time": "2025-07-08T17:10:05.343825Z",
     "start_time": "2025-07-08T17:10:05.337951Z"
    }
   },
   "cell_type": "code",
   "source": "m.divide(25,5)",
   "id": "4ba46f945a5855af",
   "outputs": [
    {
     "data": {
      "text/plain": [
       "5.0"
      ]
     },
     "execution_count": 12,
     "metadata": {},
     "output_type": "execute_result"
    }
   ],
   "execution_count": 12
  },
  {
   "metadata": {
    "ExecuteTime": {
     "end_time": "2025-07-08T17:10:05.407949Z",
     "start_time": "2025-07-08T17:10:05.403198Z"
    }
   },
   "cell_type": "code",
   "source": "is_armstrong(1634)",
   "id": "4f44a91ce5fc9562",
   "outputs": [
    {
     "data": {
      "text/plain": [
       "True"
      ]
     },
     "execution_count": 13,
     "metadata": {},
     "output_type": "execute_result"
    }
   ],
   "execution_count": 13
  },
  {
   "metadata": {
    "ExecuteTime": {
     "end_time": "2025-07-08T17:10:05.472308Z",
     "start_time": "2025-07-08T17:10:05.466792Z"
    }
   },
   "cell_type": "code",
   "source": "sqrt(67)",
   "id": "e0994bf2b9a7b6a7",
   "outputs": [
    {
     "data": {
      "text/plain": [
       "8.19"
      ]
     },
     "execution_count": 14,
     "metadata": {},
     "output_type": "execute_result"
    }
   ],
   "execution_count": 14
  },
  {
   "metadata": {},
   "cell_type": "code",
   "outputs": [],
   "execution_count": null,
   "source": "from package_an_module.mathematics import ",
   "id": "50ad86a2e5d665dc"
  }
 ],
 "metadata": {
  "kernelspec": {
   "display_name": "Python 3",
   "language": "python",
   "name": "python3"
  },
  "language_info": {
   "codemirror_mode": {
    "name": "ipython",
    "version": 2
   },
   "file_extension": ".py",
   "mimetype": "text/x-python",
   "name": "python",
   "nbconvert_exporter": "python",
   "pygments_lexer": "ipython2",
   "version": "2.7.6"
  }
 },
 "nbformat": 4,
 "nbformat_minor": 5
}

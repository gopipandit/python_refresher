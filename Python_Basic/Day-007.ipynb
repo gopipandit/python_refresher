{
 "cells": [
  {
   "metadata": {},
   "cell_type": "markdown",
   "source": "***Classes and Object (OOPS)***",
   "id": "8cd971092f0b3e23"
  },
  {
   "metadata": {
    "ExecuteTime": {
     "end_time": "2025-07-11T10:12:30.708988Z",
     "start_time": "2025-07-11T10:12:30.701333Z"
    }
   },
   "cell_type": "code",
   "source": [
    "class course:\n",
    "    \n",
    "    \n",
    "    def course_details(self):\n",
    "        print(\"This is course details\")"
   ],
   "id": "ea2d0b25073c8cf1",
   "outputs": [],
   "execution_count": 6
  },
  {
   "metadata": {
    "ExecuteTime": {
     "end_time": "2025-07-11T10:12:32.277171Z",
     "start_time": "2025-07-11T10:12:32.269834Z"
    }
   },
   "cell_type": "code",
   "source": "c = course()",
   "id": "99d06dc2be198c73",
   "outputs": [],
   "execution_count": 7
  },
  {
   "metadata": {
    "ExecuteTime": {
     "end_time": "2025-07-11T10:12:33.681756Z",
     "start_time": "2025-07-11T10:12:33.670155Z"
    }
   },
   "cell_type": "code",
   "source": "c.course_details()  ",
   "id": "57fd6867b1b612d6",
   "outputs": [
    {
     "name": "stdout",
     "output_type": "stream",
     "text": [
      "This is course details\n"
     ]
    }
   ],
   "execution_count": 8
  },
  {
   "metadata": {
    "ExecuteTime": {
     "end_time": "2025-07-11T10:35:20.810910Z",
     "start_time": "2025-07-11T10:35:20.748861Z"
    }
   },
   "cell_type": "code",
   "source": [
    "class greet:\n",
    "    def course_details(gopi, first_name, last_name):\n",
    "        print(f\"Hello {first_name} {last_name}, Welcome to the world!\")"
   ],
   "id": "d98d3be8fa1869dd",
   "outputs": [],
   "execution_count": 9
  },
  {
   "metadata": {
    "ExecuteTime": {
     "end_time": "2025-07-11T10:35:27.235048Z",
     "start_time": "2025-07-11T10:35:27.224734Z"
    }
   },
   "cell_type": "code",
   "source": "g = greet()",
   "id": "c82e8aa0f267f0cb",
   "outputs": [],
   "execution_count": 10
  },
  {
   "metadata": {
    "ExecuteTime": {
     "end_time": "2025-07-11T10:35:36.188520Z",
     "start_time": "2025-07-11T10:35:36.180103Z"
    }
   },
   "cell_type": "code",
   "source": "g.course_details(\"Gopi\",\"Nath\")",
   "id": "b59373c2e0014c4f",
   "outputs": [
    {
     "name": "stdout",
     "output_type": "stream",
     "text": [
      "Hello Gopi Nath, Welcome to the world!\n"
     ]
    }
   ],
   "execution_count": 11
  },
  {
   "metadata": {},
   "cell_type": "code",
   "outputs": [],
   "execution_count": null,
   "source": "",
   "id": "20fd66186db7b821"
  },
  {
   "metadata": {
    "ExecuteTime": {
     "end_time": "2025-07-11T11:29:10.689665Z",
     "start_time": "2025-07-11T11:29:10.630973Z"
    }
   },
   "cell_type": "code",
   "source": [
    "class greet:\n",
    "    \n",
    "    def __init__(gopi, first_name,last_name):\n",
    "        gopi.first_name = first_name\n",
    "        gopi.last_name = last_name\n",
    "        \n",
    "    def course_details(gopi):\n",
    "        print(f\"Hello { gopi.first_name} {gopi.last_name}, Welcome to the world!\")"
   ],
   "id": "2a39450965c27676",
   "outputs": [],
   "execution_count": 12
  },
  {
   "metadata": {
    "ExecuteTime": {
     "end_time": "2025-07-11T11:29:29.418807Z",
     "start_time": "2025-07-11T11:29:29.405506Z"
    }
   },
   "cell_type": "code",
   "source": "g = greet(\"Anupam\", \"Pandit\")",
   "id": "40877a1e79e1d261",
   "outputs": [],
   "execution_count": 13
  },
  {
   "metadata": {
    "ExecuteTime": {
     "end_time": "2025-07-11T11:29:37.764835Z",
     "start_time": "2025-07-11T11:29:37.754611Z"
    }
   },
   "cell_type": "code",
   "source": "g.course_details()",
   "id": "8ce9255945e2b789",
   "outputs": [
    {
     "name": "stdout",
     "output_type": "stream",
     "text": [
      "Hello Anupam Pandit, Welcome to the world!\n"
     ]
    }
   ],
   "execution_count": 14
  }
 ],
 "metadata": {
  "kernelspec": {
   "display_name": "Python 3",
   "language": "python",
   "name": "python3"
  },
  "language_info": {
   "codemirror_mode": {
    "name": "ipython",
    "version": 2
   },
   "file_extension": ".py",
   "mimetype": "text/x-python",
   "name": "python",
   "nbconvert_exporter": "python",
   "pygments_lexer": "ipython2",
   "version": "2.7.6"
  }
 },
 "nbformat": 4,
 "nbformat_minor": 5
}

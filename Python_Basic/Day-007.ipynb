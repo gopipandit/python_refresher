{
 "cells": [
  {
   "metadata": {},
   "cell_type": "markdown",
   "source": "### *Classes and Object (OOPS)*",
   "id": "8cd971092f0b3e23"
  },
  {
   "metadata": {
    "ExecuteTime": {
     "end_time": "2025-07-16T07:26:38.485960Z",
     "start_time": "2025-07-16T07:26:38.474462Z"
    }
   },
   "cell_type": "code",
   "source": [
    "class course:\n",
    "    \n",
    "    \n",
    "    def course_details(self):\n",
    "        print(\"This is course details\")"
   ],
   "id": "ea2d0b25073c8cf1",
   "outputs": [],
   "execution_count": 1
  },
  {
   "metadata": {
    "ExecuteTime": {
     "end_time": "2025-07-16T07:26:38.513633Z",
     "start_time": "2025-07-16T07:26:38.509395Z"
    }
   },
   "cell_type": "code",
   "source": "c = course()",
   "id": "99d06dc2be198c73",
   "outputs": [],
   "execution_count": 2
  },
  {
   "metadata": {
    "ExecuteTime": {
     "end_time": "2025-07-16T07:26:38.542043Z",
     "start_time": "2025-07-16T07:26:38.537723Z"
    }
   },
   "cell_type": "code",
   "source": "c.course_details()  ",
   "id": "57fd6867b1b612d6",
   "outputs": [
    {
     "name": "stdout",
     "output_type": "stream",
     "text": [
      "This is course details\n"
     ]
    }
   ],
   "execution_count": 3
  },
  {
   "metadata": {
    "ExecuteTime": {
     "end_time": "2025-07-16T07:26:39.632307Z",
     "start_time": "2025-07-16T07:26:39.628887Z"
    }
   },
   "cell_type": "code",
   "source": [
    "class greet:\n",
    "    def course_details(gopi, first_name, last_name):\n",
    "        print(f\"Hello {first_name} {last_name}, Welcome to the world!\")"
   ],
   "id": "d98d3be8fa1869dd",
   "outputs": [],
   "execution_count": 4
  },
  {
   "metadata": {
    "ExecuteTime": {
     "end_time": "2025-07-16T07:26:39.646854Z",
     "start_time": "2025-07-16T07:26:39.642698Z"
    }
   },
   "cell_type": "code",
   "source": "g = greet()",
   "id": "c82e8aa0f267f0cb",
   "outputs": [],
   "execution_count": 5
  },
  {
   "metadata": {
    "ExecuteTime": {
     "end_time": "2025-07-16T07:26:39.665946Z",
     "start_time": "2025-07-16T07:26:39.661588Z"
    }
   },
   "cell_type": "code",
   "source": "g.course_details(\"Gopi\",\"Nath\")",
   "id": "b59373c2e0014c4f",
   "outputs": [
    {
     "name": "stdout",
     "output_type": "stream",
     "text": [
      "Hello Gopi Nath, Welcome to the world!\n"
     ]
    }
   ],
   "execution_count": 6
  },
  {
   "metadata": {
    "ExecuteTime": {
     "end_time": "2025-07-16T07:26:39.772165Z",
     "start_time": "2025-07-16T07:26:39.769667Z"
    }
   },
   "cell_type": "code",
   "source": "",
   "id": "20fd66186db7b821",
   "outputs": [],
   "execution_count": null
  },
  {
   "metadata": {
    "ExecuteTime": {
     "end_time": "2025-07-16T07:26:39.807076Z",
     "start_time": "2025-07-16T07:26:39.802391Z"
    }
   },
   "cell_type": "code",
   "source": [
    "class greet:\n",
    "    \n",
    "    def __init__(gopi, first_name,last_name):\n",
    "        gopi.first_name = first_name\n",
    "        gopi.last_name = last_name\n",
    "        \n",
    "    def course_details(gopi):\n",
    "        print(f\"Hello { gopi.first_name} {gopi.last_name}, Welcome to the world!\")"
   ],
   "id": "2a39450965c27676",
   "outputs": [],
   "execution_count": 7
  },
  {
   "metadata": {
    "ExecuteTime": {
     "end_time": "2025-07-16T07:26:39.837847Z",
     "start_time": "2025-07-16T07:26:39.833102Z"
    }
   },
   "cell_type": "code",
   "source": "g = greet(\"Anupam\", \"Pandit\")",
   "id": "40877a1e79e1d261",
   "outputs": [],
   "execution_count": 8
  },
  {
   "metadata": {
    "ExecuteTime": {
     "end_time": "2025-07-16T07:26:39.872555Z",
     "start_time": "2025-07-16T07:26:39.869342Z"
    }
   },
   "cell_type": "code",
   "source": "g.course_details()",
   "id": "8ce9255945e2b789",
   "outputs": [
    {
     "name": "stdout",
     "output_type": "stream",
     "text": [
      "Hello Anupam Pandit, Welcome to the world!\n"
     ]
    }
   ],
   "execution_count": 9
  },
  {
   "metadata": {},
   "cell_type": "markdown",
   "source": "### *Dunder/Magic Method*",
   "id": "845aeec79d4a0bc3"
  },
  {
   "metadata": {
    "ExecuteTime": {
     "end_time": "2025-07-16T07:26:39.912576Z",
     "start_time": "2025-07-16T07:26:39.908940Z"
    }
   },
   "cell_type": "code",
   "source": [
    "class college:\n",
    "    \n",
    "    def __init__(self, title, mentor):\n",
    "        self.title = title\n",
    "        self.mentor = mentor\n",
    "        \n",
    "        \n",
    "    def __str__(self):\n",
    "        return \"This is a test class\""
   ],
   "id": "b9bef9abec12fd37",
   "outputs": [],
   "execution_count": 10
  },
  {
   "metadata": {
    "ExecuteTime": {
     "end_time": "2025-07-16T07:26:39.952830Z",
     "start_time": "2025-07-16T07:26:39.948377Z"
    }
   },
   "cell_type": "code",
   "source": "cl = college(\"Mr\", \"Gopinath\")",
   "id": "af5d7b789052116f",
   "outputs": [],
   "execution_count": 11
  },
  {
   "metadata": {
    "ExecuteTime": {
     "end_time": "2025-07-16T07:26:39.986466Z",
     "start_time": "2025-07-16T07:26:39.981921Z"
    }
   },
   "cell_type": "code",
   "source": "cl.title = \"Great\"",
   "id": "48b950fd5ad3ae59",
   "outputs": [],
   "execution_count": 12
  },
  {
   "metadata": {
    "ExecuteTime": {
     "end_time": "2025-07-16T07:26:40.020866Z",
     "start_time": "2025-07-16T07:26:40.012177Z"
    }
   },
   "cell_type": "code",
   "source": "cl.title",
   "id": "18a7c1c4843c6d65",
   "outputs": [
    {
     "data": {
      "text/plain": [
       "'Great'"
      ]
     },
     "execution_count": 13,
     "metadata": {},
     "output_type": "execute_result"
    }
   ],
   "execution_count": 13
  },
  {
   "metadata": {
    "ExecuteTime": {
     "end_time": "2025-07-16T07:26:40.074782Z",
     "start_time": "2025-07-16T07:26:40.071127Z"
    }
   },
   "cell_type": "code",
   "source": "print(cl)",
   "id": "d6269cfb67059e45",
   "outputs": [
    {
     "name": "stdout",
     "output_type": "stream",
     "text": [
      "This is a test class\n"
     ]
    }
   ],
   "execution_count": 14
  },
  {
   "metadata": {
    "ExecuteTime": {
     "end_time": "2025-07-16T10:53:40.679092Z",
     "start_time": "2025-07-16T10:53:40.605180Z"
    }
   },
   "cell_type": "code",
   "source": [
    "class course:\n",
    "    def __init__(self, title, mentor):\n",
    "        self.mentor = mentor\n",
    "        self.title = title\n",
    "        \n",
    "    def __str__(self):\n",
    "        return \"This is course details\"\n",
    "    \n",
    "    def __eq__(self, other):\n",
    "        \n",
    "        return self.title == other.title"
   ],
   "id": "26caf36a71237cb2",
   "outputs": [],
   "execution_count": 15
  },
  {
   "metadata": {
    "ExecuteTime": {
     "end_time": "2025-07-16T11:00:14.663550Z",
     "start_time": "2025-07-16T11:00:14.659284Z"
    }
   },
   "cell_type": "code",
   "source": [
    "c1 = course(\"Senior Data Engineer\", \"Gopinath\")\n",
    "c2 = course(\"Senior Data\", \"Pandit\")"
   ],
   "id": "fbe9af0b9d06a210",
   "outputs": [],
   "execution_count": 27
  },
  {
   "metadata": {
    "ExecuteTime": {
     "end_time": "2025-07-16T11:00:15.703324Z",
     "start_time": "2025-07-16T11:00:15.697863Z"
    }
   },
   "cell_type": "code",
   "source": "print(c)",
   "id": "59fe7698f00de782",
   "outputs": [
    {
     "name": "stdout",
     "output_type": "stream",
     "text": [
      "This is course details\n"
     ]
    }
   ],
   "execution_count": 28
  },
  {
   "metadata": {
    "ExecuteTime": {
     "end_time": "2025-07-16T11:00:16.695804Z",
     "start_time": "2025-07-16T11:00:16.689867Z"
    }
   },
   "cell_type": "code",
   "source": "c1 == c2",
   "id": "ff0dbd1f6e653238",
   "outputs": [
    {
     "data": {
      "text/plain": [
       "False"
      ]
     },
     "execution_count": 29,
     "metadata": {},
     "output_type": "execute_result"
    }
   ],
   "execution_count": 29
  },
  {
   "metadata": {
    "ExecuteTime": {
     "end_time": "2025-07-16T11:04:05.952684Z",
     "start_time": "2025-07-16T11:04:05.948225Z"
    }
   },
   "cell_type": "code",
   "source": "l = [1, 2, 2,2,2, 3, 3,3,3,3,3, 3,3,3, 4, 5, 5, 6,6 ]",
   "id": "267245a67122a293",
   "outputs": [],
   "execution_count": 37
  },
  {
   "metadata": {
    "ExecuteTime": {
     "end_time": "2025-07-16T11:04:08.086196Z",
     "start_time": "2025-07-16T11:04:08.082846Z"
    }
   },
   "cell_type": "code",
   "source": "d1 = {i: l.count(i) for i in l}",
   "id": "9f3ec04cfba2f98f",
   "outputs": [],
   "execution_count": 38
  },
  {
   "metadata": {
    "ExecuteTime": {
     "end_time": "2025-07-16T11:05:38.402867Z",
     "start_time": "2025-07-16T11:05:38.397182Z"
    }
   },
   "cell_type": "code",
   "source": "lambda x: d1[x]",
   "id": "f82c633ef4994bb9",
   "outputs": [
    {
     "data": {
      "text/plain": [
       "<function __main__.<lambda>(x)>"
      ]
     },
     "execution_count": 43,
     "metadata": {},
     "output_type": "execute_result"
    }
   ],
   "execution_count": 43
  },
  {
   "metadata": {},
   "cell_type": "code",
   "outputs": [],
   "execution_count": null,
   "source": "",
   "id": "815e81783cbb5110"
  },
  {
   "metadata": {
    "ExecuteTime": {
     "end_time": "2025-07-16T11:05:13.093681Z",
     "start_time": "2025-07-16T11:05:13.086585Z"
    }
   },
   "cell_type": "code",
   "source": "sorted([k for k,v in d1.items() if v>1], key=lambda x: d1[x],reverse=True)",
   "id": "9836e89d169ced91",
   "outputs": [
    {
     "data": {
      "text/plain": [
       "[3, 2, 5, 6]"
      ]
     },
     "execution_count": 42,
     "metadata": {},
     "output_type": "execute_result"
    }
   ],
   "execution_count": 42
  },
  {
   "metadata": {
    "ExecuteTime": {
     "end_time": "2025-07-16T17:32:49.429102Z",
     "start_time": "2025-07-16T17:32:49.382003Z"
    }
   },
   "cell_type": "code",
   "source": [
    "l = [3,4,5,6,7,8]\n",
    "l2 = [9,90,6,7,8,25]"
   ],
   "id": "2991ea2c2b29085b",
   "outputs": [],
   "execution_count": 44
  },
  {
   "metadata": {
    "ExecuteTime": {
     "end_time": "2025-07-16T18:26:58.724102Z",
     "start_time": "2025-07-16T18:26:58.713354Z"
    }
   },
   "cell_type": "code",
   "source": [
    "class course:\n",
    "    def __init__(self, title, mentor):\n",
    "        self.mentor = mentor\n",
    "        self.title = title\n",
    "        \n",
    "    def __str__(self):\n",
    "        return \"This is course details\"\n",
    "    \n",
    "    def __eq__(self, other):\n",
    "        \n",
    "        return self.title == other.title\n",
    "    \n",
    "    \n",
    "    def __len__(self):\n",
    "        return self.title"
   ],
   "id": "3d7dee189679af3c",
   "outputs": [],
   "execution_count": 47
  },
  {
   "metadata": {
    "ExecuteTime": {
     "end_time": "2025-07-16T18:27:07.999198Z",
     "start_time": "2025-07-16T18:27:07.990661Z"
    }
   },
   "cell_type": "code",
   "source": [
    "c1 = course(\"Senior Data Engineer\", \"Gopinath\")\n",
    "c2 = course(\"Senior Data\", \"Pandit\")"
   ],
   "id": "744eb375ca372b7f",
   "outputs": [],
   "execution_count": 48
  },
  {
   "metadata": {
    "ExecuteTime": {
     "end_time": "2025-07-16T18:27:21.015521Z",
     "start_time": "2025-07-16T18:27:20.989649Z"
    }
   },
   "cell_type": "code",
   "source": "len(c1.title)",
   "id": "22c036a06a29c02",
   "outputs": [
    {
     "data": {
      "text/plain": [
       "20"
      ]
     },
     "execution_count": 49,
     "metadata": {},
     "output_type": "execute_result"
    }
   ],
   "execution_count": 49
  },
  {
   "metadata": {
    "ExecuteTime": {
     "end_time": "2025-07-16T18:27:32.004529Z",
     "start_time": "2025-07-16T18:27:31.975954Z"
    }
   },
   "cell_type": "code",
   "source": "len(c1.mentor)",
   "id": "775054536c35f050",
   "outputs": [
    {
     "data": {
      "text/plain": [
       "8"
      ]
     },
     "execution_count": 50,
     "metadata": {},
     "output_type": "execute_result"
    }
   ],
   "execution_count": 50
  },
  {
   "metadata": {
    "ExecuteTime": {
     "end_time": "2025-07-16T18:29:22.352891Z",
     "start_time": "2025-07-16T18:29:22.201276Z"
    }
   },
   "cell_type": "code",
   "source": "len(c2)",
   "id": "520629d1fe591508",
   "outputs": [
    {
     "ename": "TypeError",
     "evalue": "'str' object cannot be interpreted as an integer",
     "output_type": "error",
     "traceback": [
      "\u001B[1;31m---------------------------------------------------------------------------\u001B[0m",
      "\u001B[1;31mTypeError\u001B[0m                                 Traceback (most recent call last)",
      "Cell \u001B[1;32mIn[55], line 1\u001B[0m\n\u001B[1;32m----> 1\u001B[0m \u001B[38;5;28;43mlen\u001B[39;49m\u001B[43m(\u001B[49m\u001B[43mc2\u001B[49m\u001B[43m)\u001B[49m\n",
      "\u001B[1;31mTypeError\u001B[0m: 'str' object cannot be interpreted as an integer"
     ]
    }
   ],
   "execution_count": 55
  },
  {
   "metadata": {
    "ExecuteTime": {
     "end_time": "2025-07-16T18:28:47.227948Z",
     "start_time": "2025-07-16T18:28:47.218207Z"
    }
   },
   "cell_type": "code",
   "source": [
    "class course:\n",
    "    def __init__(self, title, mentor):\n",
    "        self.mentor = mentor\n",
    "        self.title = title\n",
    "        \n",
    "    def __str__(self):\n",
    "        return \"This is course details\"\n",
    "    \n",
    "    def __eq__(self, other):\n",
    "        \n",
    "        return self.title == other.title\n",
    "       \n",
    "    def __len__(self):\n",
    "        return len(self.title) + len(self.mentor)"
   ],
   "id": "14eef0d0b64edf4d",
   "outputs": [],
   "execution_count": 51
  },
  {
   "metadata": {
    "ExecuteTime": {
     "end_time": "2025-07-16T18:28:56.094723Z",
     "start_time": "2025-07-16T18:28:56.088151Z"
    }
   },
   "cell_type": "code",
   "source": "c1 = course(\"Senior Data Engineer\", \"Gopinath\")",
   "id": "4c29eb862cd0fb0",
   "outputs": [],
   "execution_count": 52
  },
  {
   "metadata": {
    "ExecuteTime": {
     "end_time": "2025-07-16T18:29:03.180532Z",
     "start_time": "2025-07-16T18:29:03.173959Z"
    }
   },
   "cell_type": "code",
   "source": "len(c1)",
   "id": "6928fee96135805a",
   "outputs": [
    {
     "data": {
      "text/plain": [
       "28"
      ]
     },
     "execution_count": 53,
     "metadata": {},
     "output_type": "execute_result"
    }
   ],
   "execution_count": 53
  },
  {
   "metadata": {
    "ExecuteTime": {
     "end_time": "2025-07-16T18:32:46.798327Z",
     "start_time": "2025-07-16T18:32:46.789327Z"
    }
   },
   "cell_type": "code",
   "source": [
    "class course:\n",
    "    def __init__(self, title, mentor):\n",
    "        self.mentor = mentor\n",
    "        self.title = title\n",
    "        \n",
    "    def __str__(self):\n",
    "        return \"This is course details\"\n",
    "    \n",
    "    def __eq__(self, other):\n",
    "        \n",
    "        return self.title == other.title\n",
    "       \n",
    "    def __len__(self):\n",
    "        return len(self.title) + len(self.mentor)\n",
    "    \n",
    "    def __del__(self):\n",
    "        return \"I will delete the object\"\n",
    "    \n",
    "    def __call__(self):\n",
    "        return self.title, self.mentor"
   ],
   "id": "85dd38f8786681e8",
   "outputs": [],
   "execution_count": 61
  },
  {
   "metadata": {
    "ExecuteTime": {
     "end_time": "2025-07-16T18:32:59.292623Z",
     "start_time": "2025-07-16T18:32:59.286808Z"
    }
   },
   "cell_type": "code",
   "source": "a = course(\"Senior Data Engineer\", \"Gopinath\")",
   "id": "ab2af54bc82c3447",
   "outputs": [],
   "execution_count": 62
  },
  {
   "metadata": {
    "ExecuteTime": {
     "end_time": "2025-07-16T18:33:03.724063Z",
     "start_time": "2025-07-16T18:33:03.715025Z"
    }
   },
   "cell_type": "code",
   "source": "a()",
   "id": "b437d07cc6033b5d",
   "outputs": [
    {
     "data": {
      "text/plain": [
       "('Senior Data Engineer', 'Gopinath')"
      ]
     },
     "execution_count": 63,
     "metadata": {},
     "output_type": "execute_result"
    }
   ],
   "execution_count": 63
  }
 ],
 "metadata": {
  "kernelspec": {
   "display_name": "Python 3",
   "language": "python",
   "name": "python3"
  },
  "language_info": {
   "codemirror_mode": {
    "name": "ipython",
    "version": 2
   },
   "file_extension": ".py",
   "mimetype": "text/x-python",
   "name": "python",
   "nbconvert_exporter": "python",
   "pygments_lexer": "ipython2",
   "version": "2.7.6"
  }
 },
 "nbformat": 4,
 "nbformat_minor": 5
}

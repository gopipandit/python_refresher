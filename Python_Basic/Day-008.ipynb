{
 "cells": [
  {
   "metadata": {},
   "cell_type": "markdown",
   "source": "***Inheritence***",
   "id": "a4472c08a7dfaeb"
  },
  {
   "metadata": {
    "ExecuteTime": {
     "end_time": "2025-07-16T18:36:26.198965Z",
     "start_time": "2025-07-16T18:36:26.193446Z"
    }
   },
   "cell_type": "code",
   "source": [
    "class mentor:    \n",
    "    def __init__(self, name):\n",
    "        self.name = name\n",
    "        \n",
    "    def show(self):\n",
    "        print(f\"Mentor {self.name}\")"
   ],
   "id": "96ecb277d08c9c3b",
   "outputs": [],
   "execution_count": 2
  },
  {
   "metadata": {
    "ExecuteTime": {
     "end_time": "2025-07-16T18:36:34.574478Z",
     "start_time": "2025-07-16T18:36:34.569218Z"
    }
   },
   "cell_type": "code",
   "source": "m = mentor(\"Gopi\")",
   "id": "252f92813ec06567",
   "outputs": [],
   "execution_count": 3
  },
  {
   "metadata": {
    "ExecuteTime": {
     "end_time": "2025-07-16T18:36:41.193467Z",
     "start_time": "2025-07-16T18:36:41.187401Z"
    }
   },
   "cell_type": "code",
   "source": "m.show()",
   "id": "8aa9befbd063c37e",
   "outputs": [
    {
     "name": "stdout",
     "output_type": "stream",
     "text": [
      "Mentor Gopi\n"
     ]
    }
   ],
   "execution_count": 4
  },
  {
   "metadata": {
    "ExecuteTime": {
     "end_time": "2025-07-16T18:46:01.188456Z",
     "start_time": "2025-07-16T18:46:01.182577Z"
    }
   },
   "cell_type": "code",
   "source": [
    "class euron_mentor(mentor):\n",
    "    \n",
    "    def assign_course(self, course):\n",
    "        print(f\"{self.name}, {course}\")\n",
    "        "
   ],
   "id": "2a3fccd4afe67cc8",
   "outputs": [],
   "execution_count": 12
  },
  {
   "metadata": {
    "ExecuteTime": {
     "end_time": "2025-07-16T18:46:02.884828Z",
     "start_time": "2025-07-16T18:46:02.879167Z"
    }
   },
   "cell_type": "code",
   "source": "m = euron_mentor(\"Sudhanshu\")",
   "id": "16477117517a0f61",
   "outputs": [],
   "execution_count": 13
  },
  {
   "metadata": {
    "ExecuteTime": {
     "end_time": "2025-07-16T18:46:04.415045Z",
     "start_time": "2025-07-16T18:46:04.409045Z"
    }
   },
   "cell_type": "code",
   "source": "m.assign_course(\"Data Science\")",
   "id": "618b70dd157dd853",
   "outputs": [
    {
     "name": "stdout",
     "output_type": "stream",
     "text": [
      "Sudhanshu, Data Science\n"
     ]
    }
   ],
   "execution_count": 14
  },
  {
   "metadata": {},
   "cell_type": "code",
   "outputs": [],
   "execution_count": null,
   "source": "",
   "id": "b62ef29efb405a36"
  },
  {
   "metadata": {
    "ExecuteTime": {
     "end_time": "2025-07-16T18:47:48.086675Z",
     "start_time": "2025-07-16T18:47:48.081326Z"
    }
   },
   "cell_type": "code",
   "source": [
    "class mentor:\n",
    "    def intro(self):\n",
    "        print(\"My Name is Gopi\")"
   ],
   "id": "5596df0d6173b8a5",
   "outputs": [],
   "execution_count": 15
  },
  {
   "metadata": {
    "ExecuteTime": {
     "end_time": "2025-07-16T18:48:10.369423Z",
     "start_time": "2025-07-16T18:48:10.364944Z"
    }
   },
   "cell_type": "code",
   "source": [
    "class euron_mentor(mentor):\n",
    "    def intro(self):\n",
    "        print(\"My Name is Gopi Nath\")"
   ],
   "id": "325739821b9da1fc",
   "outputs": [],
   "execution_count": 16
  },
  {
   "metadata": {
    "ExecuteTime": {
     "end_time": "2025-07-16T18:48:17.162204Z",
     "start_time": "2025-07-16T18:48:17.157308Z"
    }
   },
   "cell_type": "code",
   "source": "c = euron_mentor()",
   "id": "a1e8352a665c94ac",
   "outputs": [],
   "execution_count": 17
  },
  {
   "metadata": {
    "ExecuteTime": {
     "end_time": "2025-07-16T18:48:33.916351Z",
     "start_time": "2025-07-16T18:48:33.912050Z"
    }
   },
   "cell_type": "code",
   "source": "c.intro()",
   "id": "f53d381e983693e2",
   "outputs": [
    {
     "name": "stdout",
     "output_type": "stream",
     "text": [
      "My Name is Gopi Nath\n"
     ]
    }
   ],
   "execution_count": 19
  },
  {
   "metadata": {
    "ExecuteTime": {
     "end_time": "2025-07-16T18:48:55.978927Z",
     "start_time": "2025-07-16T18:48:55.973955Z"
    }
   },
   "cell_type": "code",
   "source": "c1 = mentor()",
   "id": "632c75deacc1c21e",
   "outputs": [],
   "execution_count": 20
  },
  {
   "metadata": {
    "ExecuteTime": {
     "end_time": "2025-07-16T18:48:59.878744Z",
     "start_time": "2025-07-16T18:48:59.873539Z"
    }
   },
   "cell_type": "code",
   "source": "c1.intro()",
   "id": "9ef50d237535bd6c",
   "outputs": [
    {
     "name": "stdout",
     "output_type": "stream",
     "text": [
      "My Name is Gopi\n"
     ]
    }
   ],
   "execution_count": 21
  },
  {
   "metadata": {
    "ExecuteTime": {
     "end_time": "2025-07-16T18:50:59.324218Z",
     "start_time": "2025-07-16T18:50:59.319219Z"
    }
   },
   "cell_type": "code",
   "source": [
    "class euron_mentor2(mentor):\n",
    "    def intro(self):\n",
    "        super().intro()\n",
    "        print(\"My Name is Gopi Nath\")"
   ],
   "id": "a8bd2abe6f1c8502",
   "outputs": [],
   "execution_count": 25
  },
  {
   "metadata": {
    "ExecuteTime": {
     "end_time": "2025-07-16T18:51:01.303954Z",
     "start_time": "2025-07-16T18:51:01.298785Z"
    }
   },
   "cell_type": "code",
   "source": "m2 = euron_mentor2()",
   "id": "790e697c2fca3429",
   "outputs": [],
   "execution_count": 26
  },
  {
   "metadata": {
    "ExecuteTime": {
     "end_time": "2025-07-16T18:51:02.736042Z",
     "start_time": "2025-07-16T18:51:02.730291Z"
    }
   },
   "cell_type": "code",
   "source": "m2.intro()",
   "id": "83f080c2983b761b",
   "outputs": [
    {
     "name": "stdout",
     "output_type": "stream",
     "text": [
      "My Name is Gopi\n",
      "My Name is Gopi Nath\n"
     ]
    }
   ],
   "execution_count": 27
  },
  {
   "metadata": {
    "ExecuteTime": {
     "end_time": "2025-07-16T18:52:01.954876Z",
     "start_time": "2025-07-16T18:52:01.950551Z"
    }
   },
   "cell_type": "code",
   "source": [
    "class course:\n",
    "    def __init__(self, title):\n",
    "        self.title = title\n",
    "        print(self.title)"
   ],
   "id": "3e90c24008032033",
   "outputs": [],
   "execution_count": 28
  },
  {
   "metadata": {
    "ExecuteTime": {
     "end_time": "2025-07-16T18:56:54.392165Z",
     "start_time": "2025-07-16T18:56:54.386683Z"
    }
   },
   "cell_type": "code",
   "source": [
    "class euron_course(course):\n",
    "    def __init__(self, title, mentor):\n",
    "        self.mentor = mentor\n",
    "        super().__init__(title = title)\n",
    "        print(self.title, self.mentor)"
   ],
   "id": "213b3bd35418944c",
   "outputs": [],
   "execution_count": 39
  },
  {
   "metadata": {
    "ExecuteTime": {
     "end_time": "2025-07-16T18:56:56.228611Z",
     "start_time": "2025-07-16T18:56:56.223805Z"
    }
   },
   "cell_type": "code",
   "source": "gopi = euron_course(\"Mr\",\"Gopinath\")",
   "id": "ba629a49f7e55413",
   "outputs": [
    {
     "name": "stdout",
     "output_type": "stream",
     "text": [
      "Mr\n",
      "Mr Gopinath\n"
     ]
    }
   ],
   "execution_count": 40
  }
 ],
 "metadata": {
  "kernelspec": {
   "display_name": "Python 3",
   "language": "python",
   "name": "python3"
  },
  "language_info": {
   "codemirror_mode": {
    "name": "ipython",
    "version": 2
   },
   "file_extension": ".py",
   "mimetype": "text/x-python",
   "name": "python",
   "nbconvert_exporter": "python",
   "pygments_lexer": "ipython2",
   "version": "2.7.6"
  }
 },
 "nbformat": 4,
 "nbformat_minor": 5
}

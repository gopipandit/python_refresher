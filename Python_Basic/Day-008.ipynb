{
 "cells": [
  {
   "metadata": {},
   "cell_type": "markdown",
   "source": "***Inheritence***",
   "id": "a4472c08a7dfaeb"
  },
  {
   "metadata": {
    "ExecuteTime": {
     "end_time": "2025-07-16T18:36:26.198965Z",
     "start_time": "2025-07-16T18:36:26.193446Z"
    }
   },
   "cell_type": "code",
   "source": [
    "class mentor:    \n",
    "    def __init__(self, name):\n",
    "        self.name = name\n",
    "        \n",
    "    def show(self):\n",
    "        print(f\"Mentor {self.name}\")"
   ],
   "id": "96ecb277d08c9c3b",
   "outputs": [],
   "execution_count": 2
  },
  {
   "metadata": {
    "ExecuteTime": {
     "end_time": "2025-07-16T18:36:34.574478Z",
     "start_time": "2025-07-16T18:36:34.569218Z"
    }
   },
   "cell_type": "code",
   "source": "m = mentor(\"Gopi\")",
   "id": "252f92813ec06567",
   "outputs": [],
   "execution_count": 3
  },
  {
   "metadata": {
    "ExecuteTime": {
     "end_time": "2025-07-16T18:36:41.193467Z",
     "start_time": "2025-07-16T18:36:41.187401Z"
    }
   },
   "cell_type": "code",
   "source": "m.show()",
   "id": "8aa9befbd063c37e",
   "outputs": [
    {
     "name": "stdout",
     "output_type": "stream",
     "text": [
      "Mentor Gopi\n"
     ]
    }
   ],
   "execution_count": 4
  },
  {
   "metadata": {
    "ExecuteTime": {
     "end_time": "2025-07-16T18:46:01.188456Z",
     "start_time": "2025-07-16T18:46:01.182577Z"
    }
   },
   "cell_type": "code",
   "source": [
    "class euron_mentor(mentor):\n",
    "    \n",
    "    def assign_course(self, course):\n",
    "        print(f\"{self.name}, {course}\")\n",
    "        "
   ],
   "id": "2a3fccd4afe67cc8",
   "outputs": [],
   "execution_count": 12
  },
  {
   "metadata": {
    "ExecuteTime": {
     "end_time": "2025-07-16T18:46:02.884828Z",
     "start_time": "2025-07-16T18:46:02.879167Z"
    }
   },
   "cell_type": "code",
   "source": "m = euron_mentor(\"Sudhanshu\")",
   "id": "16477117517a0f61",
   "outputs": [],
   "execution_count": 13
  },
  {
   "metadata": {
    "ExecuteTime": {
     "end_time": "2025-07-16T18:46:04.415045Z",
     "start_time": "2025-07-16T18:46:04.409045Z"
    }
   },
   "cell_type": "code",
   "source": "m.assign_course(\"Data Science\")",
   "id": "618b70dd157dd853",
   "outputs": [
    {
     "name": "stdout",
     "output_type": "stream",
     "text": [
      "Sudhanshu, Data Science\n"
     ]
    }
   ],
   "execution_count": 14
  },
  {
   "metadata": {},
   "cell_type": "code",
   "outputs": [],
   "execution_count": null,
   "source": "",
   "id": "b62ef29efb405a36"
  },
  {
   "metadata": {
    "ExecuteTime": {
     "end_time": "2025-07-16T18:47:48.086675Z",
     "start_time": "2025-07-16T18:47:48.081326Z"
    }
   },
   "cell_type": "code",
   "source": [
    "class mentor:\n",
    "    def intro(self):\n",
    "        print(\"My Name is Gopi\")"
   ],
   "id": "5596df0d6173b8a5",
   "outputs": [],
   "execution_count": 15
  },
  {
   "metadata": {
    "ExecuteTime": {
     "end_time": "2025-07-16T18:48:10.369423Z",
     "start_time": "2025-07-16T18:48:10.364944Z"
    }
   },
   "cell_type": "code",
   "source": [
    "class euron_mentor(mentor):\n",
    "    def intro(self):\n",
    "        print(\"My Name is Gopi Nath\")"
   ],
   "id": "325739821b9da1fc",
   "outputs": [],
   "execution_count": 16
  },
  {
   "metadata": {
    "ExecuteTime": {
     "end_time": "2025-07-16T18:48:17.162204Z",
     "start_time": "2025-07-16T18:48:17.157308Z"
    }
   },
   "cell_type": "code",
   "source": "c = euron_mentor()",
   "id": "a1e8352a665c94ac",
   "outputs": [],
   "execution_count": 17
  },
  {
   "metadata": {
    "ExecuteTime": {
     "end_time": "2025-07-16T18:48:33.916351Z",
     "start_time": "2025-07-16T18:48:33.912050Z"
    }
   },
   "cell_type": "code",
   "source": "c.intro()",
   "id": "f53d381e983693e2",
   "outputs": [
    {
     "name": "stdout",
     "output_type": "stream",
     "text": [
      "My Name is Gopi Nath\n"
     ]
    }
   ],
   "execution_count": 19
  },
  {
   "metadata": {
    "ExecuteTime": {
     "end_time": "2025-07-16T18:48:55.978927Z",
     "start_time": "2025-07-16T18:48:55.973955Z"
    }
   },
   "cell_type": "code",
   "source": "c1 = mentor()",
   "id": "632c75deacc1c21e",
   "outputs": [],
   "execution_count": 20
  },
  {
   "metadata": {
    "ExecuteTime": {
     "end_time": "2025-07-16T18:48:59.878744Z",
     "start_time": "2025-07-16T18:48:59.873539Z"
    }
   },
   "cell_type": "code",
   "source": "c1.intro()",
   "id": "9ef50d237535bd6c",
   "outputs": [
    {
     "name": "stdout",
     "output_type": "stream",
     "text": [
      "My Name is Gopi\n"
     ]
    }
   ],
   "execution_count": 21
  },
  {
   "metadata": {
    "ExecuteTime": {
     "end_time": "2025-07-16T18:50:59.324218Z",
     "start_time": "2025-07-16T18:50:59.319219Z"
    }
   },
   "cell_type": "code",
   "source": [
    "class euron_mentor2(mentor):\n",
    "    def intro(self):\n",
    "        super().intro()\n",
    "        print(\"My Name is Gopi Nath\")"
   ],
   "id": "a8bd2abe6f1c8502",
   "outputs": [],
   "execution_count": 25
  },
  {
   "metadata": {
    "ExecuteTime": {
     "end_time": "2025-07-16T18:51:01.303954Z",
     "start_time": "2025-07-16T18:51:01.298785Z"
    }
   },
   "cell_type": "code",
   "source": "m2 = euron_mentor2()",
   "id": "790e697c2fca3429",
   "outputs": [],
   "execution_count": 26
  },
  {
   "metadata": {
    "ExecuteTime": {
     "end_time": "2025-07-16T18:51:02.736042Z",
     "start_time": "2025-07-16T18:51:02.730291Z"
    }
   },
   "cell_type": "code",
   "source": "m2.intro()",
   "id": "83f080c2983b761b",
   "outputs": [
    {
     "name": "stdout",
     "output_type": "stream",
     "text": [
      "My Name is Gopi\n",
      "My Name is Gopi Nath\n"
     ]
    }
   ],
   "execution_count": 27
  },
  {
   "metadata": {
    "ExecuteTime": {
     "end_time": "2025-07-23T16:56:18.791345Z",
     "start_time": "2025-07-23T16:56:18.785987Z"
    }
   },
   "cell_type": "code",
   "source": [
    "class course:\n",
    "    def __init__(self, title):\n",
    "        self.title = title\n",
    "        print(self.title)"
   ],
   "id": "3e90c24008032033",
   "outputs": [],
   "execution_count": 13
  },
  {
   "metadata": {
    "ExecuteTime": {
     "end_time": "2025-07-23T16:56:20.277578Z",
     "start_time": "2025-07-23T16:56:20.273078Z"
    }
   },
   "cell_type": "code",
   "source": [
    "class euron_course(course):\n",
    "    def __init__(self, title, mentor):\n",
    "        self.mentor = mentor\n",
    "        super().__init__(title = title)\n",
    "        print(self.title, self.mentor)"
   ],
   "id": "213b3bd35418944c",
   "outputs": [],
   "execution_count": 14
  },
  {
   "metadata": {
    "ExecuteTime": {
     "end_time": "2025-07-23T16:56:21.902989Z",
     "start_time": "2025-07-23T16:56:21.893179Z"
    }
   },
   "cell_type": "code",
   "source": "gopi = euron_course(\"Mr\",\"Gopinath\")",
   "id": "ba629a49f7e55413",
   "outputs": [
    {
     "name": "stdout",
     "output_type": "stream",
     "text": [
      "Mr\n",
      "Mr Gopinath\n"
     ]
    }
   ],
   "execution_count": 15
  },
  {
   "metadata": {},
   "cell_type": "markdown",
   "source": "### *Multi-level Inheritence*",
   "id": "a80410c907d1a92c"
  },
  {
   "metadata": {
    "ExecuteTime": {
     "end_time": "2025-07-23T16:58:23.501669Z",
     "start_time": "2025-07-23T16:58:23.495106Z"
    }
   },
   "cell_type": "code",
   "source": [
    "class platform:\n",
    "    def show(self):\n",
    "        print(\"This is the platform!\")\n",
    "        \n",
    "class course(platform):\n",
    "    def display_course(self):\n",
    "        print(\"This is the course!\")\n",
    "        \n",
    "class dsa(course):\n",
    "    def das_intro(self):\n",
    "        print(\"This is the dsa!\")"
   ],
   "id": "228864bc99acd784",
   "outputs": [],
   "execution_count": 21
  },
  {
   "metadata": {
    "ExecuteTime": {
     "end_time": "2025-07-23T16:58:25.046595Z",
     "start_time": "2025-07-23T16:58:25.039155Z"
    }
   },
   "cell_type": "code",
   "source": "c = dsa()",
   "id": "44843842d33702ff",
   "outputs": [],
   "execution_count": 22
  },
  {
   "metadata": {
    "ExecuteTime": {
     "end_time": "2025-07-23T16:58:33.282395Z",
     "start_time": "2025-07-23T16:58:33.273074Z"
    }
   },
   "cell_type": "code",
   "source": "c.show()",
   "id": "7a454d1f22109642",
   "outputs": [
    {
     "name": "stdout",
     "output_type": "stream",
     "text": [
      "This is the platform!\n"
     ]
    }
   ],
   "execution_count": 23
  },
  {
   "metadata": {
    "ExecuteTime": {
     "end_time": "2025-07-23T16:58:35.080380Z",
     "start_time": "2025-07-23T16:58:35.073129Z"
    }
   },
   "cell_type": "code",
   "source": "c.das_intro()",
   "id": "6d163f35553540f5",
   "outputs": [
    {
     "name": "stdout",
     "output_type": "stream",
     "text": [
      "This is the dsa!\n"
     ]
    }
   ],
   "execution_count": 24
  },
  {
   "metadata": {
    "ExecuteTime": {
     "end_time": "2025-07-23T16:58:40.932999Z",
     "start_time": "2025-07-23T16:58:40.922579Z"
    }
   },
   "cell_type": "code",
   "source": "c.display_course()",
   "id": "97210e3fd2373428",
   "outputs": [
    {
     "name": "stdout",
     "output_type": "stream",
     "text": [
      "This is the course!\n"
     ]
    }
   ],
   "execution_count": 25
  },
  {
   "metadata": {},
   "cell_type": "code",
   "outputs": [],
   "execution_count": null,
   "source": "",
   "id": "8a55bd9492286423"
  },
  {
   "metadata": {},
   "cell_type": "markdown",
   "source": "### *Multiple Inheritence*",
   "id": "fbb8223416146382"
  },
  {
   "metadata": {
    "ExecuteTime": {
     "end_time": "2025-07-23T17:02:14.875582Z",
     "start_time": "2025-07-23T17:02:14.868389Z"
    }
   },
   "cell_type": "code",
   "source": [
    "class design:\n",
    "    def ui_design(self):\n",
    "        print(\"This is the design!\")\n",
    "\n",
    "class curriculum  :      \n",
    "    def syllabus(self):\n",
    "        print(\"This is the curriculum!\")\n",
    "        \n",
    "class main_system(design, curriculum):\n",
    "    pass"
   ],
   "id": "d430dc6e278c4a5e",
   "outputs": [],
   "execution_count": 30
  },
  {
   "metadata": {
    "ExecuteTime": {
     "end_time": "2025-07-23T17:01:52.953107Z",
     "start_time": "2025-07-23T17:01:52.948693Z"
    }
   },
   "cell_type": "code",
   "source": "m = main_system()",
   "id": "ca556a5c03a736d9",
   "outputs": [],
   "execution_count": 27
  },
  {
   "metadata": {
    "ExecuteTime": {
     "end_time": "2025-07-23T17:01:56.902115Z",
     "start_time": "2025-07-23T17:01:56.898006Z"
    }
   },
   "cell_type": "code",
   "source": "m.ui_design()",
   "id": "1caf61d1d5ba39fc",
   "outputs": [
    {
     "name": "stdout",
     "output_type": "stream",
     "text": [
      "This is the design!\n"
     ]
    }
   ],
   "execution_count": 28
  },
  {
   "metadata": {
    "ExecuteTime": {
     "end_time": "2025-07-23T17:02:27.260380Z",
     "start_time": "2025-07-23T17:02:27.252578Z"
    }
   },
   "cell_type": "code",
   "source": "m.syllabus()",
   "id": "9e2e67b1ebced5bb",
   "outputs": [
    {
     "name": "stdout",
     "output_type": "stream",
     "text": [
      "This is the curriculum!\n"
     ]
    }
   ],
   "execution_count": 32
  },
  {
   "metadata": {
    "ExecuteTime": {
     "end_time": "2025-07-23T17:03:06.875424Z",
     "start_time": "2025-07-23T17:03:06.866292Z"
    }
   },
   "cell_type": "code",
   "source": [
    "#method resolution order\n",
    "main_system.mro()"
   ],
   "id": "e49cd31088b136ae",
   "outputs": [
    {
     "data": {
      "text/plain": [
       "[__main__.main_system, __main__.design, __main__.curriculum, object]"
      ]
     },
     "execution_count": 34,
     "metadata": {},
     "output_type": "execute_result"
    }
   ],
   "execution_count": 34
  },
  {
   "metadata": {},
   "cell_type": "code",
   "outputs": [],
   "execution_count": null,
   "source": "",
   "id": "6acb41d26fbe959d"
  },
  {
   "metadata": {},
   "cell_type": "code",
   "outputs": [],
   "execution_count": null,
   "source": "",
   "id": "ca1b9260bb166328"
  }
 ],
 "metadata": {
  "kernelspec": {
   "display_name": "Python 3",
   "language": "python",
   "name": "python3"
  },
  "language_info": {
   "codemirror_mode": {
    "name": "ipython",
    "version": 2
   },
   "file_extension": ".py",
   "mimetype": "text/x-python",
   "name": "python",
   "nbconvert_exporter": "python",
   "pygments_lexer": "ipython2",
   "version": "2.7.6"
  }
 },
 "nbformat": 4,
 "nbformat_minor": 5
}

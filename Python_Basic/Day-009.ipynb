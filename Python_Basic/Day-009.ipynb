{
 "cells": [
  {
   "metadata": {},
   "cell_type": "markdown",
   "source": "***Instance/Class/static method***",
   "id": "92fabbd2cd07688a"
  },
  {
   "metadata": {
    "ExecuteTime": {
     "end_time": "2025-07-23T17:17:35.827986Z",
     "start_time": "2025-07-23T17:17:35.822208Z"
    }
   },
   "cell_type": "code",
   "source": [
    "class mentor:\n",
    "    def __init__(self, name):\n",
    "        self.name = name        \n",
    "        \n",
    "    def introduction(self):\n",
    "        return f\"Hi! I am {self.name} your mentor for class!\"\n",
    "    \n",
    "    "
   ],
   "id": "9084761470118f90",
   "outputs": [],
   "execution_count": 8
  },
  {
   "metadata": {
    "ExecuteTime": {
     "end_time": "2025-07-23T17:17:37.055044Z",
     "start_time": "2025-07-23T17:17:37.047219Z"
    }
   },
   "cell_type": "code",
   "source": "m = mentor(\"Gopinath\")",
   "id": "ca1a5090bc3c1097",
   "outputs": [],
   "execution_count": 9
  },
  {
   "metadata": {
    "ExecuteTime": {
     "end_time": "2025-07-23T17:17:41.628247Z",
     "start_time": "2025-07-23T17:17:41.617329Z"
    }
   },
   "cell_type": "code",
   "source": "m.introduction()",
   "id": "b2517de9604a5657",
   "outputs": [
    {
     "data": {
      "text/plain": [
       "'Hi! I am Gopinath your mentor for class!'"
      ]
     },
     "execution_count": 10,
     "metadata": {},
     "output_type": "execute_result"
    }
   ],
   "execution_count": 10
  },
  {
   "metadata": {
    "ExecuteTime": {
     "end_time": "2025-07-23T17:18:14.992124Z",
     "start_time": "2025-07-23T17:18:14.984037Z"
    }
   },
   "cell_type": "code",
   "source": [
    "class mentor:\n",
    "    def __init__(self, name):\n",
    "        self.name = name        \n",
    "        \n",
    "    @classmethod   \n",
    "    def introduction(self):\n",
    "        return f\"Hi! I am {self.name} your mentor for class!\"\n",
    "    \n",
    "    "
   ],
   "id": "55be7ad0642535d9",
   "outputs": [],
   "execution_count": 11
  },
  {
   "metadata": {
    "ExecuteTime": {
     "end_time": "2025-07-23T17:18:33.447036Z",
     "start_time": "2025-07-23T17:18:33.441674Z"
    }
   },
   "cell_type": "code",
   "source": "m2 = mentor(\"Anupam\")",
   "id": "53ab441d3ad0513b",
   "outputs": [],
   "execution_count": 12
  },
  {
   "metadata": {
    "ExecuteTime": {
     "end_time": "2025-07-23T17:18:43.390271Z",
     "start_time": "2025-07-23T17:18:43.352968Z"
    }
   },
   "cell_type": "code",
   "source": "m2.introduction()",
   "id": "305b5e2d1ca89d05",
   "outputs": [
    {
     "ename": "AttributeError",
     "evalue": "type object 'mentor' has no attribute 'name'",
     "output_type": "error",
     "traceback": [
      "\u001B[1;31m---------------------------------------------------------------------------\u001B[0m",
      "\u001B[1;31mAttributeError\u001B[0m                            Traceback (most recent call last)",
      "Cell \u001B[1;32mIn[13], line 1\u001B[0m\n\u001B[1;32m----> 1\u001B[0m \u001B[43mm2\u001B[49m\u001B[38;5;241;43m.\u001B[39;49m\u001B[43mintroduction\u001B[49m\u001B[43m(\u001B[49m\u001B[43m)\u001B[49m\n",
      "Cell \u001B[1;32mIn[11], line 7\u001B[0m, in \u001B[0;36mmentor.introduction\u001B[1;34m(self)\u001B[0m\n\u001B[0;32m      5\u001B[0m \u001B[38;5;129m@classmethod\u001B[39m   \n\u001B[0;32m      6\u001B[0m \u001B[38;5;28;01mdef\u001B[39;00m \u001B[38;5;21mintroduction\u001B[39m(\u001B[38;5;28mself\u001B[39m):\n\u001B[1;32m----> 7\u001B[0m     \u001B[38;5;28;01mreturn\u001B[39;00m \u001B[38;5;124mf\u001B[39m\u001B[38;5;124m\"\u001B[39m\u001B[38;5;124mHi! I am \u001B[39m\u001B[38;5;132;01m{\u001B[39;00m\u001B[38;5;28;43mself\u001B[39;49m\u001B[38;5;241;43m.\u001B[39;49m\u001B[43mname\u001B[49m\u001B[38;5;132;01m}\u001B[39;00m\u001B[38;5;124m your mentor for class!\u001B[39m\u001B[38;5;124m\"\u001B[39m\n",
      "\u001B[1;31mAttributeError\u001B[0m: type object 'mentor' has no attribute 'name'"
     ]
    }
   ],
   "execution_count": 13
  },
  {
   "metadata": {
    "ExecuteTime": {
     "end_time": "2025-07-23T17:21:13.180492Z",
     "start_time": "2025-07-23T17:21:13.175079Z"
    }
   },
   "cell_type": "code",
   "source": [
    "class course:\n",
    "\n",
    "    total_course = 0\n",
    "    def __init__(self, title):\n",
    "        self.title = title\n",
    "        course.total_course += 1\n",
    "     \n",
    "    @classmethod    \n",
    "    def get_total_course(cls):\n",
    "        return cls.total_course"
   ],
   "id": "d9a61b43bef499ef",
   "outputs": [],
   "execution_count": 17
  },
  {
   "metadata": {},
   "cell_type": "code",
   "outputs": [],
   "execution_count": null,
   "source": "",
   "id": "8fc5492c41b188ca"
  },
  {
   "metadata": {
    "ExecuteTime": {
     "end_time": "2025-07-23T17:21:38.791640Z",
     "start_time": "2025-07-23T17:21:38.787640Z"
    }
   },
   "cell_type": "code",
   "source": "c = course(\"Mr\")",
   "id": "bce02e735a91332c",
   "outputs": [],
   "execution_count": 28
  },
  {
   "metadata": {
    "ExecuteTime": {
     "end_time": "2025-07-23T17:21:40.247859Z",
     "start_time": "2025-07-23T17:21:40.240222Z"
    }
   },
   "cell_type": "code",
   "source": "c.get_total_course()",
   "id": "434bddb2302e122a",
   "outputs": [
    {
     "data": {
      "text/plain": [
       "9"
      ]
     },
     "execution_count": 29,
     "metadata": {},
     "output_type": "execute_result"
    }
   ],
   "execution_count": 29
  },
  {
   "metadata": {
    "ExecuteTime": {
     "end_time": "2025-07-23T17:43:50.477619Z",
     "start_time": "2025-07-23T17:43:50.467329Z"
    }
   },
   "cell_type": "code",
   "source": "course.get_total_course()",
   "id": "72426ad956a1300c",
   "outputs": [
    {
     "data": {
      "text/plain": [
       "9"
      ]
     },
     "execution_count": 30,
     "metadata": {},
     "output_type": "execute_result"
    }
   ],
   "execution_count": 30
  },
  {
   "metadata": {
    "ExecuteTime": {
     "end_time": "2025-07-23T17:44:59.524626Z",
     "start_time": "2025-07-23T17:44:59.514244Z"
    }
   },
   "cell_type": "code",
   "source": [
    "class student:\n",
    "    \n",
    "    @staticmethod\n",
    "    def is_valid_email(email):\n",
    "        if '@' in email and \".\" in email:\n",
    "            return True\n",
    "        else:\n",
    "            return False"
   ],
   "id": "8503f70177fb7069",
   "outputs": [],
   "execution_count": 31
  },
  {
   "metadata": {
    "ExecuteTime": {
     "end_time": "2025-07-23T17:45:10.949110Z",
     "start_time": "2025-07-23T17:45:10.942303Z"
    }
   },
   "cell_type": "code",
   "source": "student.is_valid_email(\"gopi\")",
   "id": "35d1d968267206b0",
   "outputs": [
    {
     "data": {
      "text/plain": [
       "False"
      ]
     },
     "execution_count": 32,
     "metadata": {},
     "output_type": "execute_result"
    }
   ],
   "execution_count": 32
  },
  {
   "metadata": {
    "ExecuteTime": {
     "end_time": "2025-07-23T17:45:37.425850Z",
     "start_time": "2025-07-23T17:45:37.415851Z"
    }
   },
   "cell_type": "code",
   "source": "student.is_valid_email(\"gopi@google.com\")",
   "id": "d3dca8a7bd45c778",
   "outputs": [
    {
     "data": {
      "text/plain": [
       "True"
      ]
     },
     "execution_count": 34,
     "metadata": {},
     "output_type": "execute_result"
    }
   ],
   "execution_count": 34
  },
  {
   "metadata": {},
   "cell_type": "markdown",
   "source": "***Encapsulation***",
   "id": "608f26f84eb537e9"
  },
  {
   "metadata": {
    "ExecuteTime": {
     "end_time": "2025-07-23T17:50:12.623792Z",
     "start_time": "2025-07-23T17:50:12.616438Z"
    }
   },
   "cell_type": "code",
   "source": [
    "class bank_details:\n",
    "    \n",
    "    def __init__(self, account_no : int, name :str, balance : float):\n",
    "        self.account_no = account_no\n",
    "        self.name = name\n",
    "        self.balance = balance\n",
    "        self.pin = \"1234\"\n",
    "        \n",
    "    def get_details(self):\n",
    "        pin = str(input(\"Enter your pin: \"))\n",
    "        if pin == self.pin:\n",
    "            return f\"Name : {self.name}\\nBalance : {self.balance}\\n\"\n",
    "        else:\n",
    "            print(\"Incorrect pin entered\")\n",
    "        "
   ],
   "id": "207ba98d63d9a8c8",
   "outputs": [],
   "execution_count": 41
  },
  {
   "metadata": {
    "ExecuteTime": {
     "end_time": "2025-07-23T17:50:18.832869Z",
     "start_time": "2025-07-23T17:50:18.823832Z"
    }
   },
   "cell_type": "code",
   "source": "bank = bank_details(12334, \"Gopi\", 12345.56)",
   "id": "7d505312c26b7587",
   "outputs": [],
   "execution_count": 42
  },
  {
   "metadata": {
    "ExecuteTime": {
     "end_time": "2025-07-23T17:50:20.811967Z",
     "start_time": "2025-07-23T17:50:20.802891Z"
    }
   },
   "cell_type": "code",
   "source": "bank.name",
   "id": "274be88ab1a6add1",
   "outputs": [
    {
     "data": {
      "text/plain": [
       "'Gopi'"
      ]
     },
     "execution_count": 43,
     "metadata": {},
     "output_type": "execute_result"
    }
   ],
   "execution_count": 43
  },
  {
   "metadata": {
    "ExecuteTime": {
     "end_time": "2025-07-23T17:50:22.732250Z",
     "start_time": "2025-07-23T17:50:22.722538Z"
    }
   },
   "cell_type": "code",
   "source": "bank.balance",
   "id": "54d7f61a0bf0a97d",
   "outputs": [
    {
     "data": {
      "text/plain": [
       "12345.56"
      ]
     },
     "execution_count": 44,
     "metadata": {},
     "output_type": "execute_result"
    }
   ],
   "execution_count": 44
  },
  {
   "metadata": {
    "ExecuteTime": {
     "end_time": "2025-07-23T17:50:28.343304Z",
     "start_time": "2025-07-23T17:50:24.069452Z"
    }
   },
   "cell_type": "code",
   "source": "bank.get_details()",
   "id": "444c9f64bb5377ae",
   "outputs": [
    {
     "name": "stdout",
     "output_type": "stream",
     "text": [
      "Incorrect pin entered\n"
     ]
    }
   ],
   "execution_count": 45
  },
  {
   "metadata": {
    "ExecuteTime": {
     "end_time": "2025-07-23T17:52:49.868923Z",
     "start_time": "2025-07-23T17:52:49.861919Z"
    }
   },
   "cell_type": "code",
   "source": [
    "class bank_details:\n",
    "    \n",
    "    def __init__(self, account_no : int, name :str, balance : float):\n",
    "        self.__account_no = account_no\n",
    "        self.__name = name\n",
    "        self.__balance = balance\n",
    "        self.__pin = \"1234\"\n",
    "        \n",
    "    def get_details(self):\n",
    "        pin = str(input(\"Enter your pin: \"))\n",
    "        if pin == self.__pin:\n",
    "            print(f\"Name : {self.__name}\\nBalance : {self.__balance}\\n\")\n",
    "        else:\n",
    "            print(\"Incorrect pin entered\")\n",
    "        "
   ],
   "id": "f4eef7bd5acd71f9",
   "outputs": [],
   "execution_count": 58
  },
  {
   "metadata": {
    "ExecuteTime": {
     "end_time": "2025-07-23T17:52:51.523795Z",
     "start_time": "2025-07-23T17:52:51.519119Z"
    }
   },
   "cell_type": "code",
   "source": "bank2 = bank_details(12334, \"Gopi\", 12345.56)",
   "id": "b9a1640a52b7a937",
   "outputs": [],
   "execution_count": 59
  },
  {
   "metadata": {
    "ExecuteTime": {
     "end_time": "2025-07-23T17:52:55.399885Z",
     "start_time": "2025-07-23T17:52:52.911044Z"
    }
   },
   "cell_type": "code",
   "source": "bank2.get_details()",
   "id": "71adb66109ff5c0f",
   "outputs": [
    {
     "name": "stdout",
     "output_type": "stream",
     "text": [
      "Name : Gopi\n",
      "Balance : 12345.56\n",
      "\n"
     ]
    }
   ],
   "execution_count": 60
  },
  {
   "metadata": {
    "ExecuteTime": {
     "end_time": "2025-07-23T17:53:39.818041Z",
     "start_time": "2025-07-23T17:53:39.810041Z"
    }
   },
   "cell_type": "code",
   "source": "bank2._bank_details__name",
   "id": "b82f0c6aad17f85d",
   "outputs": [
    {
     "data": {
      "text/plain": [
       "'Gopi'"
      ]
     },
     "execution_count": 61,
     "metadata": {},
     "output_type": "execute_result"
    }
   ],
   "execution_count": 61
  },
  {
   "metadata": {
    "ExecuteTime": {
     "end_time": "2025-07-23T17:53:54.805233Z",
     "start_time": "2025-07-23T17:53:54.800345Z"
    }
   },
   "cell_type": "code",
   "source": "bank2._bank_details__name = \"chahat\"",
   "id": "3b9190f31e6c05d",
   "outputs": [],
   "execution_count": 63
  },
  {
   "metadata": {},
   "cell_type": "code",
   "outputs": [],
   "execution_count": null,
   "source": "",
   "id": "2573e27386cbf7a6"
  },
  {
   "metadata": {
    "ExecuteTime": {
     "end_time": "2025-07-23T17:54:06.301265Z",
     "start_time": "2025-07-23T17:54:03.102573Z"
    }
   },
   "cell_type": "code",
   "source": "bank2.get_details()",
   "id": "dc0a0d005d969487",
   "outputs": [
    {
     "name": "stdout",
     "output_type": "stream",
     "text": [
      "Name : chahat\n",
      "Balance : 12345.56\n",
      "\n"
     ]
    }
   ],
   "execution_count": 64
  },
  {
   "metadata": {
    "ExecuteTime": {
     "end_time": "2025-07-23T18:53:21.052421Z",
     "start_time": "2025-07-23T18:53:21.026053Z"
    }
   },
   "cell_type": "code",
   "source": [
    "class BankDetails:\n",
    "    def __init__(self, account_no: int, name: str, balance: float):\n",
    "        self.__account_no = account_no\n",
    "        self.__name = name\n",
    "        self.__balance = balance\n",
    "        self.__pin = \"1234\"\n",
    "\n",
    "    @property\n",
    "    def name(self):\n",
    "        return self.__name\n",
    "\n",
    "    @name.setter\n",
    "    def name(self, value):\n",
    "        # You might want to add validation here\n",
    "        self.__name = value\n",
    "\n",
    "    def get_details(self):\n",
    "        pin = str(input(\"Enter your pin: \"))\n",
    "        if pin == self.__pin:\n",
    "            print(f\"Name: {self.__name}\\nBalance: {self.__balance}\\n\")\n",
    "        else:\n",
    "            print(\"Incorrect pin entered\")\n"
   ],
   "id": "805410f7755e2775",
   "outputs": [],
   "execution_count": 66
  },
  {
   "metadata": {},
   "cell_type": "code",
   "outputs": [],
   "execution_count": null,
   "source": "",
   "id": "89ea7db68a5b3d5f"
  },
  {
   "metadata": {
    "ExecuteTime": {
     "end_time": "2025-07-23T18:53:29.969854Z",
     "start_time": "2025-07-23T18:53:29.966167Z"
    }
   },
   "cell_type": "code",
   "source": [
    "\n",
    "# Usage\n",
    "bank2 = BankDetails(12334, \"Gopi\", 12345.56)\n"
   ],
   "id": "ca47eea9ead0a0c6",
   "outputs": [],
   "execution_count": 67
  },
  {
   "metadata": {},
   "cell_type": "code",
   "outputs": [],
   "execution_count": null,
   "source": "",
   "id": "de3ce4ab19c2978d"
  },
  {
   "metadata": {
    "ExecuteTime": {
     "end_time": "2025-07-23T18:53:36.603329Z",
     "start_time": "2025-07-23T18:53:36.596272Z"
    }
   },
   "cell_type": "code",
   "source": [
    "\n",
    "# Example of how to safely change the name\n",
    "bank2.name = \"Chahat\"  # This will work only through the setter\n",
    "print(bank2.name)      # Prints \"Chahat\""
   ],
   "id": "2045e99c7adb1f79",
   "outputs": [
    {
     "name": "stdout",
     "output_type": "stream",
     "text": [
      "Chahat\n"
     ]
    }
   ],
   "execution_count": 68
  },
  {
   "metadata": {},
   "cell_type": "markdown",
   "source": "***Abstraction***",
   "id": "a68da003c1fe725d"
  },
  {
   "metadata": {
    "ExecuteTime": {
     "end_time": "2025-07-23T18:55:02.167494Z",
     "start_time": "2025-07-23T18:55:02.143427Z"
    }
   },
   "cell_type": "code",
   "source": "from abc import ABC, abstractmethod",
   "id": "88cb99004c31e56d",
   "outputs": [],
   "execution_count": 69
  },
  {
   "metadata": {},
   "cell_type": "code",
   "outputs": [],
   "execution_count": null,
   "source": "",
   "id": "583cd5d146511eed"
  },
  {
   "metadata": {},
   "cell_type": "code",
   "outputs": [],
   "execution_count": null,
   "source": "",
   "id": "f2b611eda86560ff"
  },
  {
   "metadata": {
    "ExecuteTime": {
     "end_time": "2025-07-23T19:02:50.601278Z",
     "start_time": "2025-07-23T19:02:50.593660Z"
    }
   },
   "cell_type": "code",
   "source": [
    "class mentor(ABC):\n",
    "    \n",
    "    @abstractmethod\n",
    "    def teach(self):\n",
    "        pass\n",
    "    \n",
    "    @abstractmethod\n",
    "    def course(self):\n",
    "        pass\n",
    "    \n",
    "    \n",
    "    def welcome(self):\n",
    "        print(\"Welcome to Mr Shabash\")"
   ],
   "id": "714df3084c9b5909",
   "outputs": [],
   "execution_count": 77
  },
  {
   "metadata": {
    "ExecuteTime": {
     "end_time": "2025-07-23T19:02:53.228412Z",
     "start_time": "2025-07-23T19:02:53.220963Z"
    }
   },
   "cell_type": "code",
   "source": [
    "class pathshala(mentor):\n",
    "    \n",
    "    def teach(self):\n",
    "        print(\"This is from pathshala-teach Class!\")\n",
    "        \n",
    "    def course(self):\n",
    "        print(\"This is pathshala-course Class!\")"
   ],
   "id": "31c3655b8143f119",
   "outputs": [],
   "execution_count": 78
  },
  {
   "metadata": {
    "ExecuteTime": {
     "end_time": "2025-07-23T19:02:55.831259Z",
     "start_time": "2025-07-23T19:02:55.826713Z"
    }
   },
   "cell_type": "code",
   "source": "p = pathshala()",
   "id": "9405ec8e40b1ed63",
   "outputs": [],
   "execution_count": 79
  },
  {
   "metadata": {
    "ExecuteTime": {
     "end_time": "2025-07-23T19:02:57.761218Z",
     "start_time": "2025-07-23T19:02:57.755701Z"
    }
   },
   "cell_type": "code",
   "source": "p.teach()",
   "id": "41990e9a4e957fc",
   "outputs": [
    {
     "name": "stdout",
     "output_type": "stream",
     "text": [
      "This is from pathshala-teach Class!\n"
     ]
    }
   ],
   "execution_count": 80
  },
  {
   "metadata": {
    "ExecuteTime": {
     "end_time": "2025-07-23T19:02:59.356042Z",
     "start_time": "2025-07-23T19:02:59.349493Z"
    }
   },
   "cell_type": "code",
   "source": "p.course()",
   "id": "90896273bf5090f7",
   "outputs": [
    {
     "name": "stdout",
     "output_type": "stream",
     "text": [
      "This is pathshala-course Class!\n"
     ]
    }
   ],
   "execution_count": 81
  },
  {
   "metadata": {
    "ExecuteTime": {
     "end_time": "2025-07-23T19:03:08.561987Z",
     "start_time": "2025-07-23T19:03:08.556637Z"
    }
   },
   "cell_type": "code",
   "source": "p.welcome()",
   "id": "7b0109bf85e257fc",
   "outputs": [
    {
     "name": "stdout",
     "output_type": "stream",
     "text": [
      "Welcome to Mr Shabash\n"
     ]
    }
   ],
   "execution_count": 82
  },
  {
   "metadata": {},
   "cell_type": "markdown",
   "source": "***Polymorphism***<br>*The term \"polymorphism\" means \"many forms.\" In the context of OOP, it refers to the ability of different objects to be accessed through the same interface, allowing the same operation to behave differently depending on the context.*",
   "id": "7d1a07bc753c703"
  },
  {
   "metadata": {
    "ExecuteTime": {
     "end_time": "2025-07-23T19:15:02.167252Z",
     "start_time": "2025-07-23T19:15:02.161223Z"
    }
   },
   "cell_type": "code",
   "source": [
    "class Animal:\n",
    "    def sound(self):\n",
    "        raise NotImplementedError(\"Subclass must implement abstract method\")\n",
    "\n",
    "class Dog(Animal):\n",
    "    def sound(self):\n",
    "        return \"Bark\"\n",
    "\n",
    "class Cat(Animal):  \n",
    "    def sound(self):\n",
    "        return \"Meow\"\n",
    "\n",
    "class Cow(Animal): \n",
    "    def sound(self):\n",
    "        return \"Moo\"\n"
   ],
   "id": "dc47f3ca47f3ef2f",
   "outputs": [],
   "execution_count": 99
  },
  {
   "metadata": {
    "ExecuteTime": {
     "end_time": "2025-07-23T19:14:06.782813Z",
     "start_time": "2025-07-23T19:14:06.777041Z"
    }
   },
   "cell_type": "code",
   "source": [
    "def animal_sound(animal):\n",
    "    print(animal.sound())"
   ],
   "id": "816dae9ce3ec1a7d",
   "outputs": [],
   "execution_count": 96
  },
  {
   "metadata": {
    "ExecuteTime": {
     "end_time": "2025-07-23T19:14:19.914362Z",
     "start_time": "2025-07-23T19:14:19.907937Z"
    }
   },
   "cell_type": "code",
   "source": [
    "dog = Dog()\n",
    "cat = Cat()\n",
    "cow = Cow()"
   ],
   "id": "9cc7de9255c517ec",
   "outputs": [],
   "execution_count": 97
  },
  {
   "metadata": {
    "ExecuteTime": {
     "end_time": "2025-07-23T19:14:44.266133Z",
     "start_time": "2025-07-23T19:14:44.261120Z"
    }
   },
   "cell_type": "code",
   "source": [
    "animal_sound(dog) \n",
    "animal_sound(cat) \n",
    "animal_sound(cow) "
   ],
   "id": "a9b92a4db0cccf63",
   "outputs": [
    {
     "name": "stdout",
     "output_type": "stream",
     "text": [
      "Bark\n",
      "Meow\n",
      "Moo\n"
     ]
    }
   ],
   "execution_count": 98
  },
  {
   "metadata": {},
   "cell_type": "markdown",
   "source": "***DuckTyping***<br>*Duck Typing is a programming concept in Python where the type or class of an object is determined by the methods and properties it has, rather than by its actual type. This means that a function or method can accept arguments of any type, as long as those arguments implement the expected behavior*",
   "id": "993a18ca1ce31059"
  },
  {
   "metadata": {
    "ExecuteTime": {
     "end_time": "2025-07-23T19:08:22.509595Z",
     "start_time": "2025-07-23T19:08:22.504157Z"
    }
   },
   "cell_type": "code",
   "source": [
    "class course:\n",
    "    def __init__(self, topics : str):\n",
    "        self.topics = topics\n",
    "        \n",
    "    def __len__(self):\n",
    "        return len(self.topics)"
   ],
   "id": "3aee170af27fdb61",
   "outputs": [],
   "execution_count": 90
  },
  {
   "metadata": {
    "ExecuteTime": {
     "end_time": "2025-07-23T19:06:16.030858Z",
     "start_time": "2025-07-23T19:06:16.025323Z"
    }
   },
   "cell_type": "code",
   "source": "c = course(\"Python\")",
   "id": "299b076e850802cd",
   "outputs": [],
   "execution_count": 84
  },
  {
   "metadata": {
    "ExecuteTime": {
     "end_time": "2025-07-23T19:06:25.356609Z",
     "start_time": "2025-07-23T19:06:25.344191Z"
    }
   },
   "cell_type": "code",
   "source": "len(c)",
   "id": "e93f47960abfa67c",
   "outputs": [
    {
     "data": {
      "text/plain": [
       "6"
      ]
     },
     "execution_count": 85,
     "metadata": {},
     "output_type": "execute_result"
    }
   ],
   "execution_count": 85
  },
  {
   "metadata": {
    "ExecuteTime": {
     "end_time": "2025-07-23T19:08:25.720700Z",
     "start_time": "2025-07-23T19:08:25.715208Z"
    }
   },
   "cell_type": "code",
   "source": "c2 = course([\"Python\",\"DSA\",\"AWS\"])",
   "id": "caf4a35d2f75e40",
   "outputs": [],
   "execution_count": 91
  },
  {
   "metadata": {
    "ExecuteTime": {
     "end_time": "2025-07-23T19:08:27.558857Z",
     "start_time": "2025-07-23T19:08:27.553341Z"
    }
   },
   "cell_type": "code",
   "source": "len(c2)",
   "id": "c1efaebf4fd99ef4",
   "outputs": [
    {
     "data": {
      "text/plain": [
       "3"
      ]
     },
     "execution_count": 92,
     "metadata": {},
     "output_type": "execute_result"
    }
   ],
   "execution_count": 92
  },
  {
   "metadata": {
    "ExecuteTime": {
     "end_time": "2025-07-23T19:08:32.532454Z",
     "start_time": "2025-07-23T19:08:32.527334Z"
    }
   },
   "cell_type": "code",
   "source": "c3 = course((\"Python\",\"DSA\",\"AWS\"))",
   "id": "92775a5246ef4502",
   "outputs": [],
   "execution_count": 93
  },
  {
   "metadata": {
    "ExecuteTime": {
     "end_time": "2025-07-23T19:08:34.202849Z",
     "start_time": "2025-07-23T19:08:34.197470Z"
    }
   },
   "cell_type": "code",
   "source": "len(c3)",
   "id": "2300343d3557f0fe",
   "outputs": [
    {
     "data": {
      "text/plain": [
       "3"
      ]
     },
     "execution_count": 94,
     "metadata": {},
     "output_type": "execute_result"
    }
   ],
   "execution_count": 94
  }
 ],
 "metadata": {
  "kernelspec": {
   "display_name": "Python 3",
   "language": "python",
   "name": "python3"
  },
  "language_info": {
   "codemirror_mode": {
    "name": "ipython",
    "version": 2
   },
   "file_extension": ".py",
   "mimetype": "text/x-python",
   "name": "python",
   "nbconvert_exporter": "python",
   "pygments_lexer": "ipython2",
   "version": "2.7.6"
  }
 },
 "nbformat": 4,
 "nbformat_minor": 5
}

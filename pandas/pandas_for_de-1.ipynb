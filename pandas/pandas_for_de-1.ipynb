{
 "cells": [
  {
   "cell_type": "code",
   "execution_count": 2,
   "metadata": {},
   "outputs": [],
   "source": [
    "import pandas as pd\n",
    "import numpy as np"
   ]
  },
  {
   "cell_type": "code",
   "execution_count": null,
   "metadata": {},
   "outputs": [],
   "source": [
    "#Core Pandas Topics for Data Engineers"
   ]
  },
  {
   "cell_type": "code",
   "execution_count": 1,
   "metadata": {},
   "outputs": [],
   "source": [
    "age = [12,56,23,96,45,36]"
   ]
  },
  {
   "cell_type": "code",
   "execution_count": 5,
   "metadata": {},
   "outputs": [],
   "source": [
    "age_s = pd.Series(age, name='age', dtype=float)"
   ]
  },
  {
   "cell_type": "code",
   "execution_count": 6,
   "metadata": {},
   "outputs": [
    {
     "data": {
      "text/plain": [
       "0    12.0\n",
       "1    56.0\n",
       "2    23.0\n",
       "3    96.0\n",
       "4    45.0\n",
       "5    36.0\n",
       "Name: age, dtype: float64"
      ]
     },
     "execution_count": 6,
     "metadata": {},
     "output_type": "execute_result"
    }
   ],
   "source": [
    "age_s"
   ]
  },
  {
   "cell_type": "code",
   "execution_count": 7,
   "metadata": {},
   "outputs": [],
   "source": [
    "age_s = pd.Series(age, name='age', dtype=str)"
   ]
  },
  {
   "cell_type": "code",
   "execution_count": 8,
   "metadata": {},
   "outputs": [
    {
     "data": {
      "text/plain": [
       "0    12\n",
       "1    56\n",
       "2    23\n",
       "3    96\n",
       "4    45\n",
       "5    36\n",
       "Name: age, dtype: object"
      ]
     },
     "execution_count": 8,
     "metadata": {},
     "output_type": "execute_result"
    }
   ],
   "source": [
    "age_s"
   ]
  },
  {
   "cell_type": "code",
   "execution_count": 13,
   "metadata": {},
   "outputs": [
    {
     "data": {
      "text/plain": [
       "<bound method NDFrame.abs of 0    12\n",
       "1    56\n",
       "2    23\n",
       "3    96\n",
       "4    45\n",
       "5    36\n",
       "Name: age, dtype: object>"
      ]
     },
     "execution_count": 13,
     "metadata": {},
     "output_type": "execute_result"
    }
   ],
   "source": [
    "age_s.abs"
   ]
  },
  {
   "cell_type": "code",
   "execution_count": 14,
   "metadata": {},
   "outputs": [],
   "source": [
    "country = ['India','Pakistan','Nepal','USA']"
   ]
  },
  {
   "cell_type": "code",
   "execution_count": 25,
   "metadata": {},
   "outputs": [
    {
     "data": {
      "text/plain": [
       "range(1, 5)"
      ]
     },
     "execution_count": 25,
     "metadata": {},
     "output_type": "execute_result"
    }
   ],
   "source": [
    "range(1,len(country)+1)"
   ]
  },
  {
   "cell_type": "code",
   "execution_count": 26,
   "metadata": {},
   "outputs": [],
   "source": [
    "con = pd.Series(country, name='country', index=range(1,len(country)+1))"
   ]
  },
  {
   "cell_type": "code",
   "execution_count": 27,
   "metadata": {},
   "outputs": [
    {
     "data": {
      "text/plain": [
       "1       India\n",
       "2    Pakistan\n",
       "3       Nepal\n",
       "4         USA\n",
       "Name: country, dtype: object"
      ]
     },
     "execution_count": 27,
     "metadata": {},
     "output_type": "execute_result"
    }
   ],
   "source": [
    "con"
   ]
  },
  {
   "cell_type": "code",
   "execution_count": 28,
   "metadata": {},
   "outputs": [],
   "source": [
    "population = ['140B','33B','1B','38B']"
   ]
  },
  {
   "cell_type": "code",
   "execution_count": 29,
   "metadata": {},
   "outputs": [],
   "source": [
    "popul = pd.Series(population, index=country, name='country-population')"
   ]
  },
  {
   "cell_type": "code",
   "execution_count": 30,
   "metadata": {},
   "outputs": [
    {
     "data": {
      "text/plain": [
       "India       140B\n",
       "Pakistan     33B\n",
       "Nepal         1B\n",
       "USA          38B\n",
       "Name: country-population, dtype: object"
      ]
     },
     "execution_count": 30,
     "metadata": {},
     "output_type": "execute_result"
    }
   ],
   "source": [
    "popul"
   ]
  },
  {
   "cell_type": "code",
   "execution_count": 31,
   "metadata": {},
   "outputs": [],
   "source": [
    "df = pd.DataFrame(popul)"
   ]
  },
  {
   "cell_type": "code",
   "execution_count": 32,
   "metadata": {},
   "outputs": [
    {
     "data": {
      "text/html": [
       "<div>\n",
       "<style scoped>\n",
       "    .dataframe tbody tr th:only-of-type {\n",
       "        vertical-align: middle;\n",
       "    }\n",
       "\n",
       "    .dataframe tbody tr th {\n",
       "        vertical-align: top;\n",
       "    }\n",
       "\n",
       "    .dataframe thead th {\n",
       "        text-align: right;\n",
       "    }\n",
       "</style>\n",
       "<table border=\"1\" class=\"dataframe\">\n",
       "  <thead>\n",
       "    <tr style=\"text-align: right;\">\n",
       "      <th></th>\n",
       "      <th>country-population</th>\n",
       "    </tr>\n",
       "  </thead>\n",
       "  <tbody>\n",
       "    <tr>\n",
       "      <th>India</th>\n",
       "      <td>140B</td>\n",
       "    </tr>\n",
       "    <tr>\n",
       "      <th>Pakistan</th>\n",
       "      <td>33B</td>\n",
       "    </tr>\n",
       "    <tr>\n",
       "      <th>Nepal</th>\n",
       "      <td>1B</td>\n",
       "    </tr>\n",
       "    <tr>\n",
       "      <th>USA</th>\n",
       "      <td>38B</td>\n",
       "    </tr>\n",
       "  </tbody>\n",
       "</table>\n",
       "</div>"
      ],
      "text/plain": [
       "         country-population\n",
       "India                  140B\n",
       "Pakistan                33B\n",
       "Nepal                    1B\n",
       "USA                     38B"
      ]
     },
     "execution_count": 32,
     "metadata": {},
     "output_type": "execute_result"
    }
   ],
   "source": [
    "df"
   ]
  },
  {
   "cell_type": "code",
   "execution_count": 39,
   "metadata": {},
   "outputs": [],
   "source": [
    "indian_states_literacy = {\n",
    "    \"Andaman and Nicobar Islands\": 86.63,\n",
    "    \"Andhra Pradesh\": 67.02,\n",
    "    \"Arunachal Pradesh\": 65.38,\n",
    "    \"Assam\": 72.19,\n",
    "    \"Bihar\": 61.80,\n",
    "    \"Chandigarh\": 86.05,\n",
    "    \"Chhattisgarh\": 70.28,\n",
    "    \"Dadra and Nagar Haveli\": 76.24,\n",
    "    \"Daman and Diu\": 87.10,\n",
    "    \"Delhi\": 86.21,\n",
    "    \"Goa\": 88.70,\n",
    "    \"Gujarat\": 78.03,\n",
    "    \"Haryana\": 75.55,\n",
    "    \"Himachal Pradesh\": 82.80,\n",
    "    \"Jammu and Kashmir\": 67.16,\n",
    "    \"Jharkhand\": 66.41,\n",
    "    \"Karnataka\": 75.36,\n",
    "    \"Kerala\": 94.00,\n",
    "    \"Lakshadweep\": 91.85,\n",
    "    \"Madhya Pradesh\": 69.32,\n",
    "    \"Maharashtra\": 82.34,\n",
    "    \"Manipur\": 76.94,\n",
    "    \"Meghalaya\": 74.43,\n",
    "    \"Mizoram\": 91.33,\n",
    "    \"Nagaland\": 79.55,\n",
    "    \"Odisha\": 72.87,\n",
    "    \"Puducherry\": 85.85,\n",
    "    \"Punjab\": 75.84,\n",
    "    \"Rajasthan\": 66.11,\n",
    "    \"Sikkim\": 81.42,\n",
    "    \"Tamil Nadu\": 80.09,\n",
    "    \"Telangana\": 66.54,\n",
    "    \"Tripura\": 87.22,\n",
    "    \"Uttar Pradesh\": 67.68,\n",
    "    \"Uttarakhand\": 78.82,\n",
    "    \"West Bengal\": 76.26\n",
    "}"
   ]
  },
  {
   "cell_type": "code",
   "execution_count": 41,
   "metadata": {},
   "outputs": [],
   "source": [
    "literacy_rate = pd.Series(indian_states_literacy, name='literacy_rate')"
   ]
  },
  {
   "cell_type": "code",
   "execution_count": 42,
   "metadata": {},
   "outputs": [
    {
     "data": {
      "text/plain": [
       "Andaman and Nicobar Islands    86.63\n",
       "Andhra Pradesh                 67.02\n",
       "Arunachal Pradesh              65.38\n",
       "Assam                          72.19\n",
       "Bihar                          61.80\n",
       "Chandigarh                     86.05\n",
       "Chhattisgarh                   70.28\n",
       "Dadra and Nagar Haveli         76.24\n",
       "Daman and Diu                  87.10\n",
       "Delhi                          86.21\n",
       "Goa                            88.70\n",
       "Gujarat                        78.03\n",
       "Haryana                        75.55\n",
       "Himachal Pradesh               82.80\n",
       "Jammu and Kashmir              67.16\n",
       "Jharkhand                      66.41\n",
       "Karnataka                      75.36\n",
       "Kerala                         94.00\n",
       "Lakshadweep                    91.85\n",
       "Madhya Pradesh                 69.32\n",
       "Maharashtra                    82.34\n",
       "Manipur                        76.94\n",
       "Meghalaya                      74.43\n",
       "Mizoram                        91.33\n",
       "Nagaland                       79.55\n",
       "Odisha                         72.87\n",
       "Puducherry                     85.85\n",
       "Punjab                         75.84\n",
       "Rajasthan                      66.11\n",
       "Sikkim                         81.42\n",
       "Tamil Nadu                     80.09\n",
       "Telangana                      66.54\n",
       "Tripura                        87.22\n",
       "Uttar Pradesh                  67.68\n",
       "Uttarakhand                    78.82\n",
       "West Bengal                    76.26\n",
       "Name: literacy_rate, dtype: float64"
      ]
     },
     "execution_count": 42,
     "metadata": {},
     "output_type": "execute_result"
    }
   ],
   "source": [
    "literacy_rate"
   ]
  },
  {
   "cell_type": "code",
   "execution_count": 43,
   "metadata": {},
   "outputs": [
    {
     "data": {
      "text/html": [
       "<div>\n",
       "<style scoped>\n",
       "    .dataframe tbody tr th:only-of-type {\n",
       "        vertical-align: middle;\n",
       "    }\n",
       "\n",
       "    .dataframe tbody tr th {\n",
       "        vertical-align: top;\n",
       "    }\n",
       "\n",
       "    .dataframe thead th {\n",
       "        text-align: right;\n",
       "    }\n",
       "</style>\n",
       "<table border=\"1\" class=\"dataframe\">\n",
       "  <thead>\n",
       "    <tr style=\"text-align: right;\">\n",
       "      <th></th>\n",
       "      <th>literacy_rate</th>\n",
       "    </tr>\n",
       "  </thead>\n",
       "  <tbody>\n",
       "    <tr>\n",
       "      <th>Andaman and Nicobar Islands</th>\n",
       "      <td>86.63</td>\n",
       "    </tr>\n",
       "    <tr>\n",
       "      <th>Andhra Pradesh</th>\n",
       "      <td>67.02</td>\n",
       "    </tr>\n",
       "    <tr>\n",
       "      <th>Arunachal Pradesh</th>\n",
       "      <td>65.38</td>\n",
       "    </tr>\n",
       "    <tr>\n",
       "      <th>Assam</th>\n",
       "      <td>72.19</td>\n",
       "    </tr>\n",
       "    <tr>\n",
       "      <th>Bihar</th>\n",
       "      <td>61.80</td>\n",
       "    </tr>\n",
       "    <tr>\n",
       "      <th>Chandigarh</th>\n",
       "      <td>86.05</td>\n",
       "    </tr>\n",
       "    <tr>\n",
       "      <th>Chhattisgarh</th>\n",
       "      <td>70.28</td>\n",
       "    </tr>\n",
       "    <tr>\n",
       "      <th>Dadra and Nagar Haveli</th>\n",
       "      <td>76.24</td>\n",
       "    </tr>\n",
       "    <tr>\n",
       "      <th>Daman and Diu</th>\n",
       "      <td>87.10</td>\n",
       "    </tr>\n",
       "    <tr>\n",
       "      <th>Delhi</th>\n",
       "      <td>86.21</td>\n",
       "    </tr>\n",
       "    <tr>\n",
       "      <th>Goa</th>\n",
       "      <td>88.70</td>\n",
       "    </tr>\n",
       "    <tr>\n",
       "      <th>Gujarat</th>\n",
       "      <td>78.03</td>\n",
       "    </tr>\n",
       "    <tr>\n",
       "      <th>Haryana</th>\n",
       "      <td>75.55</td>\n",
       "    </tr>\n",
       "    <tr>\n",
       "      <th>Himachal Pradesh</th>\n",
       "      <td>82.80</td>\n",
       "    </tr>\n",
       "    <tr>\n",
       "      <th>Jammu and Kashmir</th>\n",
       "      <td>67.16</td>\n",
       "    </tr>\n",
       "    <tr>\n",
       "      <th>Jharkhand</th>\n",
       "      <td>66.41</td>\n",
       "    </tr>\n",
       "    <tr>\n",
       "      <th>Karnataka</th>\n",
       "      <td>75.36</td>\n",
       "    </tr>\n",
       "    <tr>\n",
       "      <th>Kerala</th>\n",
       "      <td>94.00</td>\n",
       "    </tr>\n",
       "    <tr>\n",
       "      <th>Lakshadweep</th>\n",
       "      <td>91.85</td>\n",
       "    </tr>\n",
       "    <tr>\n",
       "      <th>Madhya Pradesh</th>\n",
       "      <td>69.32</td>\n",
       "    </tr>\n",
       "    <tr>\n",
       "      <th>Maharashtra</th>\n",
       "      <td>82.34</td>\n",
       "    </tr>\n",
       "    <tr>\n",
       "      <th>Manipur</th>\n",
       "      <td>76.94</td>\n",
       "    </tr>\n",
       "    <tr>\n",
       "      <th>Meghalaya</th>\n",
       "      <td>74.43</td>\n",
       "    </tr>\n",
       "    <tr>\n",
       "      <th>Mizoram</th>\n",
       "      <td>91.33</td>\n",
       "    </tr>\n",
       "    <tr>\n",
       "      <th>Nagaland</th>\n",
       "      <td>79.55</td>\n",
       "    </tr>\n",
       "    <tr>\n",
       "      <th>Odisha</th>\n",
       "      <td>72.87</td>\n",
       "    </tr>\n",
       "    <tr>\n",
       "      <th>Puducherry</th>\n",
       "      <td>85.85</td>\n",
       "    </tr>\n",
       "    <tr>\n",
       "      <th>Punjab</th>\n",
       "      <td>75.84</td>\n",
       "    </tr>\n",
       "    <tr>\n",
       "      <th>Rajasthan</th>\n",
       "      <td>66.11</td>\n",
       "    </tr>\n",
       "    <tr>\n",
       "      <th>Sikkim</th>\n",
       "      <td>81.42</td>\n",
       "    </tr>\n",
       "    <tr>\n",
       "      <th>Tamil Nadu</th>\n",
       "      <td>80.09</td>\n",
       "    </tr>\n",
       "    <tr>\n",
       "      <th>Telangana</th>\n",
       "      <td>66.54</td>\n",
       "    </tr>\n",
       "    <tr>\n",
       "      <th>Tripura</th>\n",
       "      <td>87.22</td>\n",
       "    </tr>\n",
       "    <tr>\n",
       "      <th>Uttar Pradesh</th>\n",
       "      <td>67.68</td>\n",
       "    </tr>\n",
       "    <tr>\n",
       "      <th>Uttarakhand</th>\n",
       "      <td>78.82</td>\n",
       "    </tr>\n",
       "    <tr>\n",
       "      <th>West Bengal</th>\n",
       "      <td>76.26</td>\n",
       "    </tr>\n",
       "  </tbody>\n",
       "</table>\n",
       "</div>"
      ],
      "text/plain": [
       "                             literacy_rate\n",
       "Andaman and Nicobar Islands          86.63\n",
       "Andhra Pradesh                       67.02\n",
       "Arunachal Pradesh                    65.38\n",
       "Assam                                72.19\n",
       "Bihar                                61.80\n",
       "Chandigarh                           86.05\n",
       "Chhattisgarh                         70.28\n",
       "Dadra and Nagar Haveli               76.24\n",
       "Daman and Diu                        87.10\n",
       "Delhi                                86.21\n",
       "Goa                                  88.70\n",
       "Gujarat                              78.03\n",
       "Haryana                              75.55\n",
       "Himachal Pradesh                     82.80\n",
       "Jammu and Kashmir                    67.16\n",
       "Jharkhand                            66.41\n",
       "Karnataka                            75.36\n",
       "Kerala                               94.00\n",
       "Lakshadweep                          91.85\n",
       "Madhya Pradesh                       69.32\n",
       "Maharashtra                          82.34\n",
       "Manipur                              76.94\n",
       "Meghalaya                            74.43\n",
       "Mizoram                              91.33\n",
       "Nagaland                             79.55\n",
       "Odisha                               72.87\n",
       "Puducherry                           85.85\n",
       "Punjab                               75.84\n",
       "Rajasthan                            66.11\n",
       "Sikkim                               81.42\n",
       "Tamil Nadu                           80.09\n",
       "Telangana                            66.54\n",
       "Tripura                              87.22\n",
       "Uttar Pradesh                        67.68\n",
       "Uttarakhand                          78.82\n",
       "West Bengal                          76.26"
      ]
     },
     "execution_count": 43,
     "metadata": {},
     "output_type": "execute_result"
    }
   ],
   "source": [
    "pd.DataFrame(literacy_rate)"
   ]
  },
  {
   "cell_type": "code",
   "execution_count": null,
   "metadata": {},
   "outputs": [],
   "source": []
  }
 ],
 "metadata": {
  "kernelspec": {
   "display_name": "base",
   "language": "python",
   "name": "python3"
  },
  "language_info": {
   "codemirror_mode": {
    "name": "ipython",
    "version": 3
   },
   "file_extension": ".py",
   "mimetype": "text/x-python",
   "name": "python",
   "nbconvert_exporter": "python",
   "pygments_lexer": "ipython3",
   "version": "3.9.21"
  }
 },
 "nbformat": 4,
 "nbformat_minor": 2
}
